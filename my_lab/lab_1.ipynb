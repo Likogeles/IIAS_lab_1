{
 "cells": [
  {
   "cell_type": "markdown",
   "id": "606875fc",
   "metadata": {},
   "source": [
    "Работа с данными - чтение и запись CSV"
   ]
  },
  {
   "cell_type": "code",
   "execution_count": 13,
   "id": "2cabb75d",
   "metadata": {},
   "outputs": [
    {
     "data": {
      "application/vnd.microsoft.datawrangler.viewer.v0+json": {
       "columns": [
        {
         "name": "index",
         "rawType": "int64",
         "type": "integer"
        },
        {
         "name": "Zone",
         "rawType": "object",
         "type": "string"
        },
        {
         "name": "State",
         "rawType": "object",
         "type": "string"
        },
        {
         "name": "City",
         "rawType": "object",
         "type": "string"
        },
        {
         "name": "Name",
         "rawType": "object",
         "type": "string"
        },
        {
         "name": "Type",
         "rawType": "object",
         "type": "string"
        },
        {
         "name": "Establishment Year",
         "rawType": "object",
         "type": "string"
        },
        {
         "name": "time needed to visit in hrs",
         "rawType": "float64",
         "type": "float"
        },
        {
         "name": "Google review rating",
         "rawType": "float64",
         "type": "float"
        },
        {
         "name": "Entrance Fee in INR",
         "rawType": "int64",
         "type": "integer"
        },
        {
         "name": "Airport with 50km Radius",
         "rawType": "object",
         "type": "string"
        },
        {
         "name": "Weekly Off",
         "rawType": "object",
         "type": "unknown"
        },
        {
         "name": "Significance",
         "rawType": "object",
         "type": "string"
        },
        {
         "name": "DSLR Allowed",
         "rawType": "object",
         "type": "string"
        },
        {
         "name": "Number of google review in lakhs",
         "rawType": "float64",
         "type": "float"
        },
        {
         "name": "Best Time to visit",
         "rawType": "object",
         "type": "string"
        },
        {
         "name": "Image URL",
         "rawType": "object",
         "type": "string"
        }
       ],
       "conversionMethod": "pd.DataFrame",
       "ref": "305daa73-db07-4201-b577-5c4ba7722297",
       "rows": [
        [
         "0",
         "Western",
         "Gujarat",
         "Rann of Kutch",
         "Rann Utsav",
         "Cultural",
         "Unknown",
         "3.0",
         "4.9",
         "7500",
         "Yes",
         null,
         "Cultural",
         "Yes",
         "0.1",
         "Evening",
         "https://www.rannutsav.com/blog/wp-content/uploads/2024/12/141013682_715635635803639_4674705074199093637_n-1.png"
        ],
        [
         "1",
         "Northern",
         "Punjab",
         "Amritsar",
         "Golden Temple (Harmandir Sahib)",
         "Religious Site",
         "1604",
         "1.5",
         "4.9",
         "0",
         "Yes",
         null,
         "Spiritual",
         "Yes",
         "1.9",
         "All",
         "https://upload.wikimedia.org/wikipedia/commons/9/94/The_Golden_Temple_of_Amrithsar_7.jpg"
        ],
        [
         "2",
         "Northern",
         "Ladakh",
         "Leh",
         "Pangong Tso",
         "Lake",
         "Unknown",
         "2.0",
         "4.9",
         "20",
         "Yes",
         null,
         "Nature",
         "Yes",
         "0.15",
         "Morning",
         "https://dynamic-media-cdn.tripadvisor.com/media/photo-o/17/00/2f/67/img-20180620-wa0007-largejpg.jpg?w=900&h=500&s=1"
        ],
        [
         "3",
         "Western",
         "Maharastra",
         "Mumbai",
         "Siddhivinayak Temple",
         "Temple",
         "1881",
         "2.0",
         "4.8",
         "0",
         "Yes",
         null,
         "Religious",
         "No",
         "1.05",
         "All",
         "https://upload.wikimedia.org/wikipedia/commons/b/b9/Shree_Siddhivinayak_Temple_Mumbai.jpg"
        ],
        [
         "4",
         "Western",
         "Gujarat",
         "Somnath",
         "Somnath Temple",
         "Temple",
         "1951",
         "2.0",
         "4.8",
         "0",
         "No",
         null,
         "Religious",
         "No",
         "0.39",
         "Morning",
         "https://upload.wikimedia.org/wikipedia/commons/thumb/1/10/Somanath_mandir_%28cropped%29.jpg/640px-Somanath_mandir_%28cropped%29.jpg"
        ]
       ],
       "shape": {
        "columns": 16,
        "rows": 5
       }
      },
      "text/html": [
       "<div>\n",
       "<style scoped>\n",
       "    .dataframe tbody tr th:only-of-type {\n",
       "        vertical-align: middle;\n",
       "    }\n",
       "\n",
       "    .dataframe tbody tr th {\n",
       "        vertical-align: top;\n",
       "    }\n",
       "\n",
       "    .dataframe thead th {\n",
       "        text-align: right;\n",
       "    }\n",
       "</style>\n",
       "<table border=\"1\" class=\"dataframe\">\n",
       "  <thead>\n",
       "    <tr style=\"text-align: right;\">\n",
       "      <th></th>\n",
       "      <th>Zone</th>\n",
       "      <th>State</th>\n",
       "      <th>City</th>\n",
       "      <th>Name</th>\n",
       "      <th>Type</th>\n",
       "      <th>Establishment Year</th>\n",
       "      <th>time needed to visit in hrs</th>\n",
       "      <th>Google review rating</th>\n",
       "      <th>Entrance Fee in INR</th>\n",
       "      <th>Airport with 50km Radius</th>\n",
       "      <th>Weekly Off</th>\n",
       "      <th>Significance</th>\n",
       "      <th>DSLR Allowed</th>\n",
       "      <th>Number of google review in lakhs</th>\n",
       "      <th>Best Time to visit</th>\n",
       "      <th>Image URL</th>\n",
       "    </tr>\n",
       "  </thead>\n",
       "  <tbody>\n",
       "    <tr>\n",
       "      <th>0</th>\n",
       "      <td>Western</td>\n",
       "      <td>Gujarat</td>\n",
       "      <td>Rann of Kutch</td>\n",
       "      <td>Rann Utsav</td>\n",
       "      <td>Cultural</td>\n",
       "      <td>Unknown</td>\n",
       "      <td>3.0</td>\n",
       "      <td>4.9</td>\n",
       "      <td>7500</td>\n",
       "      <td>Yes</td>\n",
       "      <td>NaN</td>\n",
       "      <td>Cultural</td>\n",
       "      <td>Yes</td>\n",
       "      <td>0.10</td>\n",
       "      <td>Evening</td>\n",
       "      <td>https://www.rannutsav.com/blog/wp-content/uplo...</td>\n",
       "    </tr>\n",
       "    <tr>\n",
       "      <th>1</th>\n",
       "      <td>Northern</td>\n",
       "      <td>Punjab</td>\n",
       "      <td>Amritsar</td>\n",
       "      <td>Golden Temple (Harmandir Sahib)</td>\n",
       "      <td>Religious Site</td>\n",
       "      <td>1604</td>\n",
       "      <td>1.5</td>\n",
       "      <td>4.9</td>\n",
       "      <td>0</td>\n",
       "      <td>Yes</td>\n",
       "      <td>NaN</td>\n",
       "      <td>Spiritual</td>\n",
       "      <td>Yes</td>\n",
       "      <td>1.90</td>\n",
       "      <td>All</td>\n",
       "      <td>https://upload.wikimedia.org/wikipedia/commons...</td>\n",
       "    </tr>\n",
       "    <tr>\n",
       "      <th>2</th>\n",
       "      <td>Northern</td>\n",
       "      <td>Ladakh</td>\n",
       "      <td>Leh</td>\n",
       "      <td>Pangong Tso</td>\n",
       "      <td>Lake</td>\n",
       "      <td>Unknown</td>\n",
       "      <td>2.0</td>\n",
       "      <td>4.9</td>\n",
       "      <td>20</td>\n",
       "      <td>Yes</td>\n",
       "      <td>NaN</td>\n",
       "      <td>Nature</td>\n",
       "      <td>Yes</td>\n",
       "      <td>0.15</td>\n",
       "      <td>Morning</td>\n",
       "      <td>https://dynamic-media-cdn.tripadvisor.com/medi...</td>\n",
       "    </tr>\n",
       "    <tr>\n",
       "      <th>3</th>\n",
       "      <td>Western</td>\n",
       "      <td>Maharastra</td>\n",
       "      <td>Mumbai</td>\n",
       "      <td>Siddhivinayak Temple</td>\n",
       "      <td>Temple</td>\n",
       "      <td>1881</td>\n",
       "      <td>2.0</td>\n",
       "      <td>4.8</td>\n",
       "      <td>0</td>\n",
       "      <td>Yes</td>\n",
       "      <td>NaN</td>\n",
       "      <td>Religious</td>\n",
       "      <td>No</td>\n",
       "      <td>1.05</td>\n",
       "      <td>All</td>\n",
       "      <td>https://upload.wikimedia.org/wikipedia/commons...</td>\n",
       "    </tr>\n",
       "    <tr>\n",
       "      <th>4</th>\n",
       "      <td>Western</td>\n",
       "      <td>Gujarat</td>\n",
       "      <td>Somnath</td>\n",
       "      <td>Somnath Temple</td>\n",
       "      <td>Temple</td>\n",
       "      <td>1951</td>\n",
       "      <td>2.0</td>\n",
       "      <td>4.8</td>\n",
       "      <td>0</td>\n",
       "      <td>No</td>\n",
       "      <td>NaN</td>\n",
       "      <td>Religious</td>\n",
       "      <td>No</td>\n",
       "      <td>0.39</td>\n",
       "      <td>Morning</td>\n",
       "      <td>https://upload.wikimedia.org/wikipedia/commons...</td>\n",
       "    </tr>\n",
       "  </tbody>\n",
       "</table>\n",
       "</div>"
      ],
      "text/plain": [
       "       Zone       State           City                             Name  \\\n",
       "0   Western     Gujarat  Rann of Kutch                       Rann Utsav   \n",
       "1  Northern      Punjab       Amritsar  Golden Temple (Harmandir Sahib)   \n",
       "2  Northern      Ladakh            Leh                      Pangong Tso   \n",
       "3   Western  Maharastra         Mumbai             Siddhivinayak Temple   \n",
       "4   Western     Gujarat        Somnath                   Somnath Temple   \n",
       "\n",
       "             Type Establishment Year  time needed to visit in hrs  \\\n",
       "0        Cultural            Unknown                          3.0   \n",
       "1  Religious Site               1604                          1.5   \n",
       "2            Lake            Unknown                          2.0   \n",
       "3          Temple               1881                          2.0   \n",
       "4          Temple               1951                          2.0   \n",
       "\n",
       "   Google review rating  Entrance Fee in INR Airport with 50km Radius  \\\n",
       "0                   4.9                 7500                      Yes   \n",
       "1                   4.9                    0                      Yes   \n",
       "2                   4.9                   20                      Yes   \n",
       "3                   4.8                    0                      Yes   \n",
       "4                   4.8                    0                       No   \n",
       "\n",
       "  Weekly Off Significance DSLR Allowed  Number of google review in lakhs  \\\n",
       "0        NaN     Cultural          Yes                              0.10   \n",
       "1        NaN    Spiritual          Yes                              1.90   \n",
       "2        NaN       Nature          Yes                              0.15   \n",
       "3        NaN    Religious           No                              1.05   \n",
       "4        NaN    Religious           No                              0.39   \n",
       "\n",
       "  Best Time to visit                                          Image URL  \n",
       "0            Evening  https://www.rannutsav.com/blog/wp-content/uplo...  \n",
       "1                All  https://upload.wikimedia.org/wikipedia/commons...  \n",
       "2            Morning  https://dynamic-media-cdn.tripadvisor.com/medi...  \n",
       "3                All  https://upload.wikimedia.org/wikipedia/commons...  \n",
       "4            Morning  https://upload.wikimedia.org/wikipedia/commons...  "
      ]
     },
     "execution_count": 13,
     "metadata": {},
     "output_type": "execute_result"
    }
   ],
   "source": [
    "import pandas as pd\n",
    "\n",
    "# df = pd.read_csv(\"data/India_tourist_places.csv\", on_bad_lines='skip')\n",
    "df = pd.read_excel(\"data/India_tourist_places.xlsx\")\n",
    "\n",
    "df.to_csv(\"test.csv\")\n",
    "df.head()\n",
    "\n"
   ]
  },
  {
   "cell_type": "markdown",
   "id": "4565223b",
   "metadata": {},
   "source": [
    "Работа с данными - основные команды"
   ]
  },
  {
   "cell_type": "code",
   "execution_count": null,
   "id": "49820273",
   "metadata": {},
   "outputs": [],
   "source": [
    "df.info()\n",
    "\n",
    "print(df.describe().transpose())\n",
    "\n",
    "cleared_df = df.drop([\"Zone\", \"Entrance Fee in INR\", \"Image URL\"], axis=1)\n",
    "print(cleared_df.head())\n",
    "print(cleared_df.tail())\n",
    "\n",
    "sorted_df = cleared_df.sort_values(by=\"Name\")\n",
    "print(sorted_df.head())\n",
    "print(sorted_df.tail())"
   ]
  },
  {
   "cell_type": "code",
   "execution_count": 30,
   "id": "f706b824",
   "metadata": {},
   "outputs": [
    {
     "name": "stdout",
     "output_type": "stream",
     "text": [
      "                              Name  Google review rating\n",
      "0                       Rann Utsav                   4.9\n",
      "1  Golden Temple (Harmandir Sahib)                   4.9\n",
      "2                      Pangong Tso                   4.9\n",
      "3             Siddhivinayak Temple                   4.8\n",
      "               Name  Google review rating\n",
      "4    Somnath Temple                   4.8\n",
      "5  Jallianwala Bagh                   4.8\n"
     ]
    }
   ],
   "source": [
    "print(df.loc[0:3, [\"Name\",\"Google review rating\"]])\n",
    "\n",
    "print(df.iloc[4:6, [3,7]])"
   ]
  },
  {
   "cell_type": "code",
   "execution_count": 41,
   "id": "15cbef1c",
   "metadata": {},
   "outputs": [
    {
     "name": "stdout",
     "output_type": "stream",
     "text": [
      "                   Type   Significance  Count\n",
      "0       Adventure Sport      Adventure      1\n",
      "1        Amusement Park  Entertainment      2\n",
      "2        Amusement Park   Recreational      2\n",
      "3                 Beach         Nature      3\n",
      "4                 Beach   Recreational     14\n",
      "..                  ...            ...    ...\n",
      "97             Vineyard   Recreational      1\n",
      "98         War Memorial     Historical      3\n",
      "99            Waterfall         Nature     11\n",
      "100  Wildlife Sanctuary       Wildlife      6\n",
      "101                 Zoo       Wildlife      4\n",
      "\n",
      "[102 rows x 3 columns]\n"
     ]
    }
   ],
   "source": [
    "print(df.groupby([\"Type\", \"Significance\"]).size().reset_index(name=\"Count\"))"
   ]
  },
  {
   "cell_type": "code",
   "execution_count": null,
   "id": "c4f23bb9",
   "metadata": {},
   "outputs": [],
   "source": [
    "data = df[[\"Name\", \"Type\", \"Significance\", \"Weekly Off\"]].copy()\n",
    "data.dropna(subset=[\"Weekly Off\"], inplace=True)\n",
    "data.sort_values(\"Weekly Off\", ascending=False, inplace=True)\n",
    "print(data)"
   ]
  },
  {
   "cell_type": "code",
   "execution_count": 100,
   "id": "19518925",
   "metadata": {},
   "outputs": [
    {
     "name": "stdout",
     "output_type": "stream",
     "text": [
      "                min       q1  median      q3   max     iqr\n",
      "Zone                                                      \n",
      "Central       -3500  1350.00  1632.0  1956.5  2016  606.50\n",
      "Eastern        -987  1757.00  1855.0  1931.0  1997  174.00\n",
      "North Eastern   700  1707.00  1901.0  1946.0  1990  239.00\n",
      "Northern       -820  1407.50  1726.5  1979.0  2019  571.50\n",
      "Southern         22  1601.25  1866.5  1969.5  2016  368.25\n",
      "Western        -400  1567.50  1922.0  1991.5  2018  424.00\n"
     ]
    },
    {
     "data": {
      "image/png": "[encoded data removed]",
      "text/plain": [
       "<Figure size 640x480 with 1 Axes>"
      ]
     },
     "metadata": {},
     "output_type": "display_data"
    }
   ],
   "source": [
    "import matplotlib.pyplot as plt\n",
    "\n",
    "\n",
    "df['Establishment Year'] = pd.to_numeric(df['Establishment Year'], errors='coerce')\n",
    "df = df.dropna(subset=['Establishment Year'])\n",
    "df['Establishment Year'] = df['Establishment Year'].astype(int)\n",
    "\n",
    "def q1(x):\n",
    "    return x.quantile(0.25)\n",
    "\n",
    "def q2(x):\n",
    "    return x.quantile(0.5)\n",
    "\n",
    "def q3(x):\n",
    "    return x.quantile(0.75)\n",
    "\n",
    "def iqr(x):\n",
    "    return q3(x) - q1(x)\n",
    "\n",
    "stats = df.groupby('Zone')['Establishment Year'].agg(['min', q1, 'median', q3, 'max', iqr])\n",
    "print(stats)\n",
    "\n",
    "df.boxplot(column='Establishment Year', by='Zone')\n",
    "plt.show()"
   ]
  }
 ],
 "metadata": {
  "kernelspec": {
   "display_name": "Python 3",
   "language": "python",
   "name": "python3"
  },
  "language_info": {
   "codemirror_mode": {
    "name": "ipython",
    "version": 3
   },
   "file_extension": ".py",
   "mimetype": "text/x-python",
   "name": "python",
   "nbconvert_exporter": "python",
   "pygments_lexer": "ipython3",
   "version": "3.13.3"
  }
 },
 "nbformat": 4,
 "nbformat_minor": 5
}
