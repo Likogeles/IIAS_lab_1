{
 "cells": [
  {
   "cell_type": "markdown",
   "id": "606875fc",
   "metadata": {},
   "source": [
    "+ 1. Провести анализ выбранного набора данных. Какова проблемная область?\n",
    "+ 2. Провести анализ содержимого набора данных. Что является объектом/объектами наблюдения? Каковы атрибуты объектов? Есть ли связи между объектами?\n",
    "+ 3. Определить бизнес-цель/цели. Каков эффект для бизнеса?\n",
    "+ 4. Определить цели технического проекта для каждой выделенной ранее бизнес-цели. Что поступает на вход, что является целевым признаком?\n",
    "+ 5. Определить проблемы выбранного набора данных: зашумленность, смещение, актуальность, выбросы, просачивание данных.\n",
    "+ 6. Привести примеры решения обнаруженных проблем.\n",
    "+ 7. Оценить качество набора данных: информативность, степень покрытия, соответствие реальным данным, согласованность меток.\n",
    "+ 8. Устранить проблему пропущенных данных: удаление, подстановка константного значения (0 или подобное), подстановка среднего значения.\n",
    "+ 9. Выполнить разбиение набора данных на обучающую, контрольную (при необходимости) и тестовую выборки.\n",
    "+ 10. Оценить сбалансированность выборок. Оценить необходимость использования методов приращения (аугментации) данных.\n",
    "+ 11. Выполнить приращение данных методами выборки с избытком (oversampling) и выборки с недостатком (undersampling). Должны быть представлены примеры реализации обоих методов."
   ]
  },
  {
   "cell_type": "code",
   "execution_count": null,
   "id": "c16633fc",
   "metadata": {},
   "outputs": [
    {
     "data": {
      "text/plain": [
       "Type\n",
       "Temple           57\n",
       "Beach            25\n",
       "Fort             21\n",
       "Lake             15\n",
       "National Park    14\n",
       "                 ..\n",
       "Village           1\n",
       "Island            1\n",
       "Township          1\n",
       "Orchard           1\n",
       "Gravity Hill      1\n",
       "Name: count, Length: 75, dtype: int64"
      ]
     },
     "metadata": {},
     "output_type": "display_data"
    },
    {
     "data": {
      "application/vnd.microsoft.datawrangler.viewer.v0+json": {
       "columns": [
        {
         "name": "index",
         "rawType": "int64",
         "type": "integer"
        },
        {
         "name": "Zone",
         "rawType": "object",
         "type": "string"
        },
        {
         "name": "State",
         "rawType": "object",
         "type": "string"
        },
        {
         "name": "City",
         "rawType": "object",
         "type": "string"
        },
        {
         "name": "Name",
         "rawType": "object",
         "type": "string"
        },
        {
         "name": "Type",
         "rawType": "object",
         "type": "string"
        },
        {
         "name": "EstablishmentYear",
         "rawType": "object",
         "type": "string"
        },
        {
         "name": "TimeNeededToVisitInHrs",
         "rawType": "float64",
         "type": "float"
        },
        {
         "name": "GoogleReviewRating",
         "rawType": "float64",
         "type": "float"
        },
        {
         "name": "EntranceFeeInINR",
         "rawType": "int64",
         "type": "integer"
        },
        {
         "name": "AirportWith50kmRadius",
         "rawType": "object",
         "type": "string"
        },
        {
         "name": "WeeklyOff",
         "rawType": "object",
         "type": "unknown"
        },
        {
         "name": "Significance",
         "rawType": "object",
         "type": "string"
        },
        {
         "name": "DSLRAllowed",
         "rawType": "object",
         "type": "string"
        },
        {
         "name": "NumberOfGoogleReviewInLakhs",
         "rawType": "float64",
         "type": "float"
        },
        {
         "name": "BestTimeToVisit",
         "rawType": "object",
         "type": "string"
        },
        {
         "name": "ImageURL",
         "rawType": "object",
         "type": "string"
        }
       ],
       "conversionMethod": "pd.DataFrame",
       "ref": "7e4dff97-b1b3-46cc-a56e-de96a9481ef4",
       "rows": [
        [
         "0",
         "Western",
         "Gujarat",
         "Rann of Kutch",
         "Rann Utsav",
         "Cultural",
         "Unknown",
         "3.0",
         "4.9",
         "7500",
         "Yes",
         null,
         "Cultural",
         "Yes",
         "0.1",
         "Evening",
         "https://www.rannutsav.com/blog/wp-content/uploads/2024/12/141013682_715635635803639_4674705074199093637_n-1.png"
        ],
        [
         "1",
         "Northern",
         "Punjab",
         "Amritsar",
         "Golden Temple (Harmandir Sahib)",
         "Religious Site",
         "1604",
         "1.5",
         "4.9",
         "0",
         "Yes",
         null,
         "Spiritual",
         "Yes",
         "1.9",
         "All",
         "https://upload.wikimedia.org/wikipedia/commons/9/94/The_Golden_Temple_of_Amrithsar_7.jpg"
        ],
        [
         "2",
         "Northern",
         "Ladakh",
         "Leh",
         "Pangong Tso",
         "Lake",
         "Unknown",
         "2.0",
         "4.9",
         "20",
         "Yes",
         null,
         "Nature",
         "Yes",
         "0.15",
         "Morning",
         "https://dynamic-media-cdn.tripadvisor.com/media/photo-o/17/00/2f/67/img-20180620-wa0007-largejpg.jpg?w=900&h=500&s=1"
        ],
        [
         "3",
         "Western",
         "Maharastra",
         "Mumbai",
         "Siddhivinayak Temple",
         "Temple",
         "1881",
         "2.0",
         "4.8",
         "0",
         "Yes",
         null,
         "Religious",
         "No",
         "1.05",
         "All",
         "https://upload.wikimedia.org/wikipedia/commons/b/b9/Shree_Siddhivinayak_Temple_Mumbai.jpg"
        ],
        [
         "4",
         "Western",
         "Gujarat",
         "Somnath",
         "Somnath Temple",
         "Temple",
         "1951",
         "2.0",
         "4.8",
         "0",
         "No",
         null,
         "Religious",
         "No",
         "0.39",
         "Morning",
         "https://upload.wikimedia.org/wikipedia/commons/thumb/1/10/Somanath_mandir_%28cropped%29.jpg/640px-Somanath_mandir_%28cropped%29.jpg"
        ]
       ],
       "shape": {
        "columns": 16,
        "rows": 5
       }
      },
      "text/html": [
       "<div>\n",
       "<style scoped>\n",
       "    .dataframe tbody tr th:only-of-type {\n",
       "        vertical-align: middle;\n",
       "    }\n",
       "\n",
       "    .dataframe tbody tr th {\n",
       "        vertical-align: top;\n",
       "    }\n",
       "\n",
       "    .dataframe thead th {\n",
       "        text-align: right;\n",
       "    }\n",
       "</style>\n",
       "<table border=\"1\" class=\"dataframe\">\n",
       "  <thead>\n",
       "    <tr style=\"text-align: right;\">\n",
       "      <th></th>\n",
       "      <th>Zone</th>\n",
       "      <th>State</th>\n",
       "      <th>City</th>\n",
       "      <th>Name</th>\n",
       "      <th>Type</th>\n",
       "      <th>EstablishmentYear</th>\n",
       "      <th>TimeNeededToVisitInHrs</th>\n",
       "      <th>GoogleReviewRating</th>\n",
       "      <th>EntranceFeeInINR</th>\n",
       "      <th>AirportWith50kmRadius</th>\n",
       "      <th>WeeklyOff</th>\n",
       "      <th>Significance</th>\n",
       "      <th>DSLRAllowed</th>\n",
       "      <th>NumberOfGoogleReviewInLakhs</th>\n",
       "      <th>BestTimeToVisit</th>\n",
       "      <th>ImageURL</th>\n",
       "    </tr>\n",
       "  </thead>\n",
       "  <tbody>\n",
       "    <tr>\n",
       "      <th>0</th>\n",
       "      <td>Western</td>\n",
       "      <td>Gujarat</td>\n",
       "      <td>Rann of Kutch</td>\n",
       "      <td>Rann Utsav</td>\n",
       "      <td>Cultural</td>\n",
       "      <td>Unknown</td>\n",
       "      <td>3.0</td>\n",
       "      <td>4.9</td>\n",
       "      <td>7500</td>\n",
       "      <td>Yes</td>\n",
       "      <td>NaN</td>\n",
       "      <td>Cultural</td>\n",
       "      <td>Yes</td>\n",
       "      <td>0.10</td>\n",
       "      <td>Evening</td>\n",
       "      <td>https://www.rannutsav.com/blog/wp-content/uplo...</td>\n",
       "    </tr>\n",
       "    <tr>\n",
       "      <th>1</th>\n",
       "      <td>Northern</td>\n",
       "      <td>Punjab</td>\n",
       "      <td>Amritsar</td>\n",
       "      <td>Golden Temple (Harmandir Sahib)</td>\n",
       "      <td>Religious Site</td>\n",
       "      <td>1604</td>\n",
       "      <td>1.5</td>\n",
       "      <td>4.9</td>\n",
       "      <td>0</td>\n",
       "      <td>Yes</td>\n",
       "      <td>NaN</td>\n",
       "      <td>Spiritual</td>\n",
       "      <td>Yes</td>\n",
       "      <td>1.90</td>\n",
       "      <td>All</td>\n",
       "      <td>https://upload.wikimedia.org/wikipedia/commons...</td>\n",
       "    </tr>\n",
       "    <tr>\n",
       "      <th>2</th>\n",
       "      <td>Northern</td>\n",
       "      <td>Ladakh</td>\n",
       "      <td>Leh</td>\n",
       "      <td>Pangong Tso</td>\n",
       "      <td>Lake</td>\n",
       "      <td>Unknown</td>\n",
       "      <td>2.0</td>\n",
       "      <td>4.9</td>\n",
       "      <td>20</td>\n",
       "      <td>Yes</td>\n",
       "      <td>NaN</td>\n",
       "      <td>Nature</td>\n",
       "      <td>Yes</td>\n",
       "      <td>0.15</td>\n",
       "      <td>Morning</td>\n",
       "      <td>https://dynamic-media-cdn.tripadvisor.com/medi...</td>\n",
       "    </tr>\n",
       "    <tr>\n",
       "      <th>3</th>\n",
       "      <td>Western</td>\n",
       "      <td>Maharastra</td>\n",
       "      <td>Mumbai</td>\n",
       "      <td>Siddhivinayak Temple</td>\n",
       "      <td>Temple</td>\n",
       "      <td>1881</td>\n",
       "      <td>2.0</td>\n",
       "      <td>4.8</td>\n",
       "      <td>0</td>\n",
       "      <td>Yes</td>\n",
       "      <td>NaN</td>\n",
       "      <td>Religious</td>\n",
       "      <td>No</td>\n",
       "      <td>1.05</td>\n",
       "      <td>All</td>\n",
       "      <td>https://upload.wikimedia.org/wikipedia/commons...</td>\n",
       "    </tr>\n",
       "    <tr>\n",
       "      <th>4</th>\n",
       "      <td>Western</td>\n",
       "      <td>Gujarat</td>\n",
       "      <td>Somnath</td>\n",
       "      <td>Somnath Temple</td>\n",
       "      <td>Temple</td>\n",
       "      <td>1951</td>\n",
       "      <td>2.0</td>\n",
       "      <td>4.8</td>\n",
       "      <td>0</td>\n",
       "      <td>No</td>\n",
       "      <td>NaN</td>\n",
       "      <td>Religious</td>\n",
       "      <td>No</td>\n",
       "      <td>0.39</td>\n",
       "      <td>Morning</td>\n",
       "      <td>https://upload.wikimedia.org/wikipedia/commons...</td>\n",
       "    </tr>\n",
       "  </tbody>\n",
       "</table>\n",
       "</div>"
      ],
      "text/plain": [
       "       Zone       State           City                             Name  \\\n",
       "0   Western     Gujarat  Rann of Kutch                       Rann Utsav   \n",
       "1  Northern      Punjab       Amritsar  Golden Temple (Harmandir Sahib)   \n",
       "2  Northern      Ladakh            Leh                      Pangong Tso   \n",
       "3   Western  Maharastra         Mumbai             Siddhivinayak Temple   \n",
       "4   Western     Gujarat        Somnath                   Somnath Temple   \n",
       "\n",
       "             Type EstablishmentYear  TimeNeededToVisitInHrs  \\\n",
       "0        Cultural           Unknown                     3.0   \n",
       "1  Religious Site              1604                     1.5   \n",
       "2            Lake           Unknown                     2.0   \n",
       "3          Temple              1881                     2.0   \n",
       "4          Temple              1951                     2.0   \n",
       "\n",
       "   GoogleReviewRating  EntranceFeeInINR AirportWith50kmRadius WeeklyOff  \\\n",
       "0                 4.9              7500                   Yes       NaN   \n",
       "1                 4.9                 0                   Yes       NaN   \n",
       "2                 4.9                20                   Yes       NaN   \n",
       "3                 4.8                 0                   Yes       NaN   \n",
       "4                 4.8                 0                    No       NaN   \n",
       "\n",
       "  Significance DSLRAllowed  NumberOfGoogleReviewInLakhs BestTimeToVisit  \\\n",
       "0     Cultural         Yes                         0.10         Evening   \n",
       "1    Spiritual         Yes                         1.90             All   \n",
       "2       Nature         Yes                         0.15         Morning   \n",
       "3    Religious          No                         1.05             All   \n",
       "4    Religious          No                         0.39         Morning   \n",
       "\n",
       "                                            ImageURL  \n",
       "0  https://www.rannutsav.com/blog/wp-content/uplo...  \n",
       "1  https://upload.wikimedia.org/wikipedia/commons...  \n",
       "2  https://dynamic-media-cdn.tripadvisor.com/medi...  \n",
       "3  https://upload.wikimedia.org/wikipedia/commons...  \n",
       "4  https://upload.wikimedia.org/wikipedia/commons...  "
      ]
     },
     "execution_count": 65,
     "metadata": {},
     "output_type": "execute_result"
    }
   ],
   "source": [
    "from sklearn.model_selection import train_test_split\n",
    "from sklearn.preprocessing import LabelEncoder\n",
    "from imblearn.over_sampling import SMOTE\n",
    "from imblearn.under_sampling import RandomUnderSampler\n",
    "import pandas as pd\n",
    "\n",
    "df = pd.read_excel(\"data/India_tourist_places.xlsx\")\n",
    "\n",
    "# df.info()\n",
    "display(df.Type.value_counts())\n",
    "df.head()\n"
   ]
  },
  {
   "cell_type": "code",
   "execution_count": null,
   "id": "528ca327",
   "metadata": {},
   "outputs": [],
   "source": [
    "display(df.isnull().sum())\n",
    "display()\n",
    "display(df.isnull().any())\n",
    "display()\n",
    "\n",
    "for i in df.columns:\n",
    "    null_rate = df[i].isnull().sum() / len(df) * 100\n",
    "    if null_rate > 0:\n",
    "        display(f\"{i} процент пустых значений: %{null_rate:.2f}\")\n",
    "\n",
    "df = df.drop([\"WeeklyOff\", \"EstablishmentYear\"], axis=1)\n",
    "display(df.head())"
   ]
  },
  {
   "cell_type": "markdown",
   "id": "60514fb3",
   "metadata": {},
   "source": [
    "9. Выполнить разбиение набора данных на обучающую, контрольную (при необходимости) и тестовую выборки."
   ]
  },
  {
   "cell_type": "code",
   "execution_count": 52,
   "id": "03bfd5c9",
   "metadata": {},
   "outputs": [
    {
     "data": {
      "text/plain": [
       "DSLRAllowed\n",
       "Yes    244\n",
       "No      58\n",
       "Name: count, dtype: int64"
      ]
     },
     "metadata": {},
     "output_type": "display_data"
    },
    {
     "data": {
      "text/plain": [
       "'Обучающая выборка: '"
      ]
     },
     "metadata": {},
     "output_type": "display_data"
    },
    {
     "data": {
      "text/plain": [
       "(181, 11)"
      ]
     },
     "metadata": {},
     "output_type": "display_data"
    },
    {
     "data": {
      "text/plain": [
       "DSLRAllowed\n",
       "Yes    146\n",
       "No      35\n",
       "Name: count, dtype: int64"
      ]
     },
     "metadata": {},
     "output_type": "display_data"
    },
    {
     "data": {
      "text/plain": [
       "'Контрольная выборка: '"
      ]
     },
     "metadata": {},
     "output_type": "display_data"
    },
    {
     "data": {
      "text/plain": [
       "(60, 11)"
      ]
     },
     "metadata": {},
     "output_type": "display_data"
    },
    {
     "data": {
      "text/plain": [
       "DSLRAllowed\n",
       "Yes    49\n",
       "No     11\n",
       "Name: count, dtype: int64"
      ]
     },
     "metadata": {},
     "output_type": "display_data"
    },
    {
     "data": {
      "text/plain": [
       "'Тестовая выборка: '"
      ]
     },
     "metadata": {},
     "output_type": "display_data"
    },
    {
     "data": {
      "text/plain": [
       "(61, 11)"
      ]
     },
     "metadata": {},
     "output_type": "display_data"
    },
    {
     "data": {
      "text/plain": [
       "DSLRAllowed\n",
       "Yes    49\n",
       "No     12\n",
       "Name: count, dtype: int64"
      ]
     },
     "metadata": {},
     "output_type": "display_data"
    }
   ],
   "source": [
    "from src.utils import split_stratified_into_train_val_test\n",
    "\n",
    "\n",
    "display(df.DSLRAllowed.value_counts())\n",
    "display()\n",
    "\n",
    "data = df[[\"Zone\", \"State\", \"City\", \"Type\", \"TimeNeededToVisitInHrs\", \"GoogleReviewRating\", \"EntranceFeeInINR\", \"AirportWith50kmRadius\", \"Significance\", \"DSLRAllowed\", \"NumberOfGoogleReviewInLakhs\"]].copy()\n",
    "\n",
    "df_train, df_val, df_test, y_train, y_val, y_test = split_stratified_into_train_val_test(\n",
    "   data, stratify_colname=\"DSLRAllowed\", frac_train=0.60, frac_val=0.20, frac_test=0.20\n",
    ")\n",
    "\n",
    "display(\"Обучающая выборка: \", df_train.shape)\n",
    "display(df_train.DSLRAllowed.value_counts())\n",
    "\n",
    "display(\"Контрольная выборка: \", df_val.shape)\n",
    "display(df_val.DSLRAllowed.value_counts())\n",
    "\n",
    "display(\"Тестовая выборка: \", df_test.shape)\n",
    "display(df_test.DSLRAllowed.value_counts())\n",
    "\n"
   ]
  },
  {
   "cell_type": "code",
   "execution_count": null,
   "id": "b6fa97a5",
   "metadata": {},
   "outputs": [],
   "source": [
    "# Приращение данных методами выборки с избытком (oversampling) и выборки с недостатком (undersampling). Должны быть представлены примеры реализации обоих методов.\n",
    "# Подготовка\n",
    "\n",
    "X = df[[\"Zone\", \"State\", \"City\", \"Type\", \"TimeNeededToVisitInHrs\", \n",
    "        \"GoogleReviewRating\", \"EntranceFeeInINR\", \"AirportWith50kmRadius\", \n",
    "        \"Significance\", \"NumberOfGoogleReviewInLakhs\"]].copy()\n",
    "y = df[\"DSLRAllowed\"]\n",
    "\n",
    "X_encoded = pd.get_dummies(X)\n",
    "le = LabelEncoder()\n",
    "y_encoded = le.fit_transform(y)"
   ]
  },
  {
   "cell_type": "code",
   "execution_count": 74,
   "id": "73ac8829",
   "metadata": {},
   "outputs": [
    {
     "data": {
      "application/vnd.microsoft.datawrangler.viewer.v0+json": {
       "columns": [
        {
         "name": "index",
         "rawType": "int64",
         "type": "integer"
        },
        {
         "name": "TimeNeededToVisitInHrs",
         "rawType": "float64",
         "type": "float"
        },
        {
         "name": "GoogleReviewRating",
         "rawType": "float64",
         "type": "float"
        },
        {
         "name": "EntranceFeeInINR",
         "rawType": "int64",
         "type": "integer"
        },
        {
         "name": "NumberOfGoogleReviewInLakhs",
         "rawType": "float64",
         "type": "float"
        },
        {
         "name": "Zone_Central",
         "rawType": "bool",
         "type": "boolean"
        },
        {
         "name": "Zone_Eastern",
         "rawType": "bool",
         "type": "boolean"
        },
        {
         "name": "Zone_North Eastern",
         "rawType": "bool",
         "type": "boolean"
        },
        {
         "name": "Zone_Northern",
         "rawType": "bool",
         "type": "boolean"
        },
        {
         "name": "Zone_Southern",
         "rawType": "bool",
         "type": "boolean"
        },
        {
         "name": "Zone_Western",
         "rawType": "bool",
         "type": "boolean"
        },
        {
         "name": "State_Andaman and Nicobar Islands",
         "rawType": "bool",
         "type": "boolean"
        },
        {
         "name": "State_Andhra Pradesh",
         "rawType": "bool",
         "type": "boolean"
        },
        {
         "name": "State_Arunachal Pradesh",
         "rawType": "bool",
         "type": "boolean"
        },
        {
         "name": "State_Assam",
         "rawType": "bool",
         "type": "boolean"
        },
        {
         "name": "State_Bihar",
         "rawType": "bool",
         "type": "boolean"
        },
        {
         "name": "State_Chhattisgarh",
         "rawType": "bool",
         "type": "boolean"
        },
        {
         "name": "State_Daman and Diu",
         "rawType": "bool",
         "type": "boolean"
        },
        {
         "name": "State_Delhi",
         "rawType": "bool",
         "type": "boolean"
        },
        {
         "name": "State_Goa",
         "rawType": "bool",
         "type": "boolean"
        },
        {
         "name": "State_Gujarat",
         "rawType": "bool",
         "type": "boolean"
        },
        {
         "name": "State_Haryana",
         "rawType": "bool",
         "type": "boolean"
        },
        {
         "name": "State_Himachal Pradesh",
         "rawType": "bool",
         "type": "boolean"
        },
        {
         "name": "State_Jammu and Kashmir",
         "rawType": "bool",
         "type": "boolean"
        },
        {
         "name": "State_Jharkhand",
         "rawType": "bool",
         "type": "boolean"
        },
        {
         "name": "State_Karnataka",
         "rawType": "bool",
         "type": "boolean"
        },
        {
         "name": "State_Kerala",
         "rawType": "bool",
         "type": "boolean"
        },
        {
         "name": "State_Ladakh",
         "rawType": "bool",
         "type": "boolean"
        },
        {
         "name": "State_Madhya Pradesh",
         "rawType": "bool",
         "type": "boolean"
        },
        {
         "name": "State_Maharashtra",
         "rawType": "bool",
         "type": "boolean"
        },
        {
         "name": "State_Maharastra",
         "rawType": "bool",
         "type": "boolean"
        },
        {
         "name": "State_Odisha",
         "rawType": "bool",
         "type": "boolean"
        },
        {
         "name": "State_Puducherry",
         "rawType": "bool",
         "type": "boolean"
        },
        {
         "name": "State_Punjab",
         "rawType": "bool",
         "type": "boolean"
        },
        {
         "name": "State_Rajasthan",
         "rawType": "bool",
         "type": "boolean"
        },
        {
         "name": "State_Sikkim",
         "rawType": "bool",
         "type": "boolean"
        },
        {
         "name": "State_Tamil Nadu",
         "rawType": "bool",
         "type": "boolean"
        },
        {
         "name": "State_Telangana",
         "rawType": "bool",
         "type": "boolean"
        },
        {
         "name": "State_Tripura",
         "rawType": "bool",
         "type": "boolean"
        },
        {
         "name": "State_Uttar Pradesh",
         "rawType": "bool",
         "type": "boolean"
        },
        {
         "name": "State_Uttarakhand",
         "rawType": "bool",
         "type": "boolean"
        },
        {
         "name": "State_West Bengal",
         "rawType": "bool",
         "type": "boolean"
        },
        {
         "name": "City_Agartala",
         "rawType": "bool",
         "type": "boolean"
        },
        {
         "name": "City_Agra",
         "rawType": "bool",
         "type": "boolean"
        },
        {
         "name": "City_Ahmedabad",
         "rawType": "bool",
         "type": "boolean"
        },
        {
         "name": "City_Ajanta",
         "rawType": "bool",
         "type": "boolean"
        },
        {
         "name": "City_Ajmer",
         "rawType": "bool",
         "type": "boolean"
        },
        {
         "name": "City_Alappuzha",
         "rawType": "bool",
         "type": "boolean"
        },
        {
         "name": "City_Alibaug",
         "rawType": "bool",
         "type": "boolean"
        },
        {
         "name": "City_Aligarh",
         "rawType": "bool",
         "type": "boolean"
        },
        {
         "name": "City_Allahabad",
         "rawType": "bool",
         "type": "boolean"
        },
        {
         "name": "City_Almora",
         "rawType": "bool",
         "type": "boolean"
        },
        {
         "name": "City_Amarkantak",
         "rawType": "bool",
         "type": "boolean"
        },
        {
         "name": "City_Amravati",
         "rawType": "bool",
         "type": "boolean"
        },
        {
         "name": "City_Amritsar",
         "rawType": "bool",
         "type": "boolean"
        },
        {
         "name": "City_Anantapur",
         "rawType": "bool",
         "type": "boolean"
        },
        {
         "name": "City_Anantnag",
         "rawType": "bool",
         "type": "boolean"
        },
        {
         "name": "City_Auli",
         "rawType": "bool",
         "type": "boolean"
        },
        {
         "name": "City_Aurangabad",
         "rawType": "bool",
         "type": "boolean"
        },
        {
         "name": "City_Auroville",
         "rawType": "bool",
         "type": "boolean"
        },
        {
         "name": "City_Ayodhya",
         "rawType": "bool",
         "type": "boolean"
        },
        {
         "name": "City_Badami",
         "rawType": "bool",
         "type": "boolean"
        },
        {
         "name": "City_Badrinath",
         "rawType": "bool",
         "type": "boolean"
        },
        {
         "name": "City_Balasore",
         "rawType": "bool",
         "type": "boolean"
        },
        {
         "name": "City_Bandhavgarh",
         "rawType": "bool",
         "type": "boolean"
        },
        {
         "name": "City_Bandipur",
         "rawType": "bool",
         "type": "boolean"
        },
        {
         "name": "City_Bangalore",
         "rawType": "bool",
         "type": "boolean"
        },
        {
         "name": "City_Baratang Island",
         "rawType": "bool",
         "type": "boolean"
        },
        {
         "name": "City_Barot",
         "rawType": "bool",
         "type": "boolean"
        },
        {
         "name": "City_Bastar",
         "rawType": "bool",
         "type": "boolean"
        },
        {
         "name": "City_Bekal",
         "rawType": "bool",
         "type": "boolean"
        },
        {
         "name": "City_Bengaluru",
         "rawType": "bool",
         "type": "boolean"
        },
        {
         "name": "City_Berhampur",
         "rawType": "bool",
         "type": "boolean"
        },
        {
         "name": "City_Bhimbetka",
         "rawType": "bool",
         "type": "boolean"
        },
        {
         "name": "City_Bhopal",
         "rawType": "bool",
         "type": "boolean"
        },
        {
         "name": "City_Bhubaneswar",
         "rawType": "bool",
         "type": "boolean"
        },
        {
         "name": "City_Bhuj",
         "rawType": "bool",
         "type": "boolean"
        },
        {
         "name": "City_Bijapur",
         "rawType": "bool",
         "type": "boolean"
        },
        {
         "name": "City_Bikaner",
         "rawType": "bool",
         "type": "boolean"
        },
        {
         "name": "City_Bir Billing",
         "rawType": "bool",
         "type": "boolean"
        },
        {
         "name": "City_Bodh Gaya",
         "rawType": "bool",
         "type": "boolean"
        },
        {
         "name": "City_Bolpur",
         "rawType": "bool",
         "type": "boolean"
        },
        {
         "name": "City_Chamba",
         "rawType": "bool",
         "type": "boolean"
        },
        {
         "name": "City_Chandigarh",
         "rawType": "bool",
         "type": "boolean"
        },
        {
         "name": "City_Chennai",
         "rawType": "bool",
         "type": "boolean"
        },
        {
         "name": "City_Chidambaram",
         "rawType": "bool",
         "type": "boolean"
        },
        {
         "name": "City_Chikmagalur",
         "rawType": "bool",
         "type": "boolean"
        },
        {
         "name": "City_Chilika",
         "rawType": "bool",
         "type": "boolean"
        },
        {
         "name": "City_Chitrakoot",
         "rawType": "bool",
         "type": "boolean"
        },
        {
         "name": "City_Chittorgarh",
         "rawType": "bool",
         "type": "boolean"
        },
        {
         "name": "City_Chopta",
         "rawType": "bool",
         "type": "boolean"
        },
        {
         "name": "City_Coimbatore",
         "rawType": "bool",
         "type": "boolean"
        },
        {
         "name": "City_Cooch Behar",
         "rawType": "bool",
         "type": "boolean"
        },
        {
         "name": "City_Coorg",
         "rawType": "bool",
         "type": "boolean"
        },
        {
         "name": "City_Cuttack",
         "rawType": "bool",
         "type": "boolean"
        },
        {
         "name": "City_Dalhousie",
         "rawType": "bool",
         "type": "boolean"
        },
        {
         "name": "City_Darjeeling",
         "rawType": "bool",
         "type": "boolean"
        },
        {
         "name": "City_Dehradun",
         "rawType": "bool",
         "type": "boolean"
        },
        {
         "name": "City_Delhi",
         "rawType": "bool",
         "type": "boolean"
        },
        {
         "name": "City_Deoghar",
         "rawType": "bool",
         "type": "boolean"
        },
        {
         "name": "City_Digha",
         "rawType": "bool",
         "type": "boolean"
        },
        {
         "name": "City_Diskit",
         "rawType": "bool",
         "type": "boolean"
        },
        {
         "name": "City_Diu",
         "rawType": "bool",
         "type": "boolean"
        },
        {
         "name": "City_Dras",
         "rawType": "bool",
         "type": "boolean"
        },
        {
         "name": "City_Dumboor",
         "rawType": "bool",
         "type": "boolean"
        },
        {
         "name": "City_Dwarka",
         "rawType": "bool",
         "type": "boolean"
        },
        {
         "name": "City_Fatehpur Sikri",
         "rawType": "bool",
         "type": "boolean"
        },
        {
         "name": "City_Gandhinagar",
         "rawType": "bool",
         "type": "boolean"
        },
        {
         "name": "City_Gangtok",
         "rawType": "bool",
         "type": "boolean"
        },
        {
         "name": "City_Goa",
         "rawType": "bool",
         "type": "boolean"
        },
        {
         "name": "City_Gokarna",
         "rawType": "bool",
         "type": "boolean"
        },
        {
         "name": "City_Guntur",
         "rawType": "bool",
         "type": "boolean"
        },
        {
         "name": "City_Gurugram",
         "rawType": "bool",
         "type": "boolean"
        },
        {
         "name": "City_Guwahati",
         "rawType": "bool",
         "type": "boolean"
        },
        {
         "name": "City_Gwalior",
         "rawType": "bool",
         "type": "boolean"
        },
        {
         "name": "City_Hajo",
         "rawType": "bool",
         "type": "boolean"
        },
        {
         "name": "City_Halebidu",
         "rawType": "bool",
         "type": "boolean"
        },
        {
         "name": "City_Hampi",
         "rawType": "bool",
         "type": "boolean"
        },
        {
         "name": "City_Haridwar",
         "rawType": "bool",
         "type": "boolean"
        },
        {
         "name": "City_Havelock Island",
         "rawType": "bool",
         "type": "boolean"
        },
        {
         "name": "City_Hemis",
         "rawType": "bool",
         "type": "boolean"
        },
        {
         "name": "City_Hooghly",
         "rawType": "bool",
         "type": "boolean"
        },
        {
         "name": "City_Hyderabad",
         "rawType": "bool",
         "type": "boolean"
        },
        {
         "name": "City_Indore",
         "rawType": "bool",
         "type": "boolean"
        },
        {
         "name": "City_Jabalpur",
         "rawType": "bool",
         "type": "boolean"
        },
        {
         "name": "City_Jaipur",
         "rawType": "bool",
         "type": "boolean"
        },
        {
         "name": "City_Jaisalmer",
         "rawType": "bool",
         "type": "boolean"
        },
        {
         "name": "City_Jalpaiguri",
         "rawType": "bool",
         "type": "boolean"
        },
        {
         "name": "City_Jammu",
         "rawType": "bool",
         "type": "boolean"
        },
        {
         "name": "City_Jhansi",
         "rawType": "bool",
         "type": "boolean"
        },
        {
         "name": "City_Jim Corbett",
         "rawType": "bool",
         "type": "boolean"
        },
        {
         "name": "City_Jodhpur",
         "rawType": "bool",
         "type": "boolean"
        },
        {
         "name": "City_Joshimath",
         "rawType": "bool",
         "type": "boolean"
        },
        {
         "name": "City_Junagadh",
         "rawType": "bool",
         "type": "boolean"
        },
        {
         "name": "City_Kadapa",
         "rawType": "bool",
         "type": "boolean"
        },
        {
         "name": "City_Kangra",
         "rawType": "bool",
         "type": "boolean"
        },
        {
         "name": "City_Kanha",
         "rawType": "bool",
         "type": "boolean"
        },
        {
         "name": "City_Kannur",
         "rawType": "bool",
         "type": "boolean"
        },
        {
         "name": "City_Kanpur",
         "rawType": "bool",
         "type": "boolean"
        },
        {
         "name": "City_Kanyakumari",
         "rawType": "bool",
         "type": "boolean"
        },
        {
         "name": "City_Kargil",
         "rawType": "bool",
         "type": "boolean"
        },
        {
         "name": "City_Kaziranga",
         "rawType": "bool",
         "type": "boolean"
        },
        {
         "name": "City_Kedarnath",
         "rawType": "bool",
         "type": "boolean"
        },
        {
         "name": "City_Kendujhar",
         "rawType": "bool",
         "type": "boolean"
        },
        {
         "name": "City_Keonjhar",
         "rawType": "bool",
         "type": "boolean"
        },
        {
         "name": "City_Kevadia",
         "rawType": "bool",
         "type": "boolean"
        },
        {
         "name": "City_Khajuraho",
         "rawType": "bool",
         "type": "boolean"
        },
        {
         "name": "City_Kinnaur",
         "rawType": "bool",
         "type": "boolean"
        },
        {
         "name": "City_Kishtwar",
         "rawType": "bool",
         "type": "boolean"
        },
        {
         "name": "City_Kochi",
         "rawType": "bool",
         "type": "boolean"
        },
        {
         "name": "City_Kodaikanal",
         "rawType": "bool",
         "type": "boolean"
        },
        {
         "name": "City_Kolhapur",
         "rawType": "bool",
         "type": "boolean"
        },
        {
         "name": "City_Kolkata",
         "rawType": "bool",
         "type": "boolean"
        },
        {
         "name": "City_Konark",
         "rawType": "bool",
         "type": "boolean"
        },
        {
         "name": "City_Kovalam",
         "rawType": "bool",
         "type": "boolean"
        },
        {
         "name": "City_Kozhikode",
         "rawType": "bool",
         "type": "boolean"
        },
        {
         "name": "City_Kufri",
         "rawType": "bool",
         "type": "boolean"
        },
        {
         "name": "City_Kullu",
         "rawType": "bool",
         "type": "boolean"
        },
        {
         "name": "City_Kumarakom",
         "rawType": "bool",
         "type": "boolean"
        },
        {
         "name": "City_Kurnool",
         "rawType": "bool",
         "type": "boolean"
        },
        {
         "name": "City_Leh",
         "rawType": "bool",
         "type": "boolean"
        },
        {
         "name": "City_Lonavala",
         "rawType": "bool",
         "type": "boolean"
        },
        {
         "name": "City_Lucknow",
         "rawType": "bool",
         "type": "boolean"
        },
        {
         "name": "City_Madurai",
         "rawType": "bool",
         "type": "boolean"
        },
        {
         "name": "City_Mahabalipuram",
         "rawType": "bool",
         "type": "boolean"
        },
        {
         "name": "City_Majuli",
         "rawType": "bool",
         "type": "boolean"
        },
        {
         "name": "City_Manali",
         "rawType": "bool",
         "type": "boolean"
        },
        {
         "name": "City_Manas",
         "rawType": "bool",
         "type": "boolean"
        },
        {
         "name": "City_Mandi",
         "rawType": "bool",
         "type": "boolean"
        },
        {
         "name": "City_Mandu",
         "rawType": "bool",
         "type": "boolean"
        },
        {
         "name": "City_Mangalore",
         "rawType": "bool",
         "type": "boolean"
        },
        {
         "name": "City_Manikaran",
         "rawType": "bool",
         "type": "boolean"
        },
        {
         "name": "City_Matheran",
         "rawType": "bool",
         "type": "boolean"
        },
        {
         "name": "City_Mathura",
         "rawType": "bool",
         "type": "boolean"
        },
        {
         "name": "City_McLeod Ganj",
         "rawType": "bool",
         "type": "boolean"
        },
        {
         "name": "City_Meerut",
         "rawType": "bool",
         "type": "boolean"
        },
        {
         "name": "City_Mount Abu",
         "rawType": "bool",
         "type": "boolean"
        },
        {
         "name": "City_Mumbai",
         "rawType": "bool",
         "type": "boolean"
        },
        {
         "name": "City_Munnar",
         "rawType": "bool",
         "type": "boolean"
        },
        {
         "name": "City_Murshidabad",
         "rawType": "bool",
         "type": "boolean"
        },
        {
         "name": "City_Murudeshwar",
         "rawType": "bool",
         "type": "boolean"
        },
        {
         "name": "City_Mussoorie",
         "rawType": "bool",
         "type": "boolean"
        },
        {
         "name": "City_Mysore",
         "rawType": "bool",
         "type": "boolean"
        },
        {
         "name": "City_Nagpur",
         "rawType": "bool",
         "type": "boolean"
        },
        {
         "name": "City_Nainital",
         "rawType": "bool",
         "type": "boolean"
        },
        {
         "name": "City_Namchi",
         "rawType": "bool",
         "type": "boolean"
        },
        {
         "name": "City_Narkanda",
         "rawType": "bool",
         "type": "boolean"
        },
        {
         "name": "City_Nashik",
         "rawType": "bool",
         "type": "boolean"
        },
        {
         "name": "City_Neil Island",
         "rawType": "bool",
         "type": "boolean"
        },
        {
         "name": "City_Nelliyampathy",
         "rawType": "bool",
         "type": "boolean"
        },
        {
         "name": "City_New Delhi",
         "rawType": "bool",
         "type": "boolean"
        },
        {
         "name": "City_Noida",
         "rawType": "bool",
         "type": "boolean"
        },
        {
         "name": "City_Nubra Valley",
         "rawType": "bool",
         "type": "boolean"
        },
        {
         "name": "City_Ooty",
         "rawType": "bool",
         "type": "boolean"
        },
        {
         "name": "City_Orchha",
         "rawType": "bool",
         "type": "boolean"
        },
        {
         "name": "City_Pachmarhi",
         "rawType": "bool",
         "type": "boolean"
        },
        {
         "name": "City_Pahalgam",
         "rawType": "bool",
         "type": "boolean"
        },
        {
         "name": "City_Palampur",
         "rawType": "bool",
         "type": "boolean"
        },
        {
         "name": "City_Patna",
         "rawType": "bool",
         "type": "boolean"
        },
        {
         "name": "City_Pelling",
         "rawType": "bool",
         "type": "boolean"
        },
        {
         "name": "City_Porbandar",
         "rawType": "bool",
         "type": "boolean"
        },
        {
         "name": "City_Port Blair",
         "rawType": "bool",
         "type": "boolean"
        },
        {
         "name": "City_Puducherry",
         "rawType": "bool",
         "type": "boolean"
        },
        {
         "name": "City_Pune",
         "rawType": "bool",
         "type": "boolean"
        },
        {
         "name": "City_Puri",
         "rawType": "bool",
         "type": "boolean"
        },
        {
         "name": "City_Purulia",
         "rawType": "bool",
         "type": "boolean"
        },
        {
         "name": "City_Pushkar",
         "rawType": "bool",
         "type": "boolean"
        },
        {
         "name": "City_Puttaparthi",
         "rawType": "bool",
         "type": "boolean"
        },
        {
         "name": "City_Rajahmundry",
         "rawType": "bool",
         "type": "boolean"
        },
        {
         "name": "City_Rameswaram",
         "rawType": "bool",
         "type": "boolean"
        },
        {
         "name": "City_Ranchi",
         "rawType": "bool",
         "type": "boolean"
        },
        {
         "name": "City_Ranikhet",
         "rawType": "bool",
         "type": "boolean"
        },
        {
         "name": "City_Rann of Kutch",
         "rawType": "bool",
         "type": "boolean"
        },
        {
         "name": "City_Ratnagiri",
         "rawType": "bool",
         "type": "boolean"
        },
        {
         "name": "City_Ravangla",
         "rawType": "bool",
         "type": "boolean"
        },
        {
         "name": "City_Rishikesh",
         "rawType": "bool",
         "type": "boolean"
        },
        {
         "name": "City_Rourkela",
         "rawType": "bool",
         "type": "boolean"
        },
        {
         "name": "City_Sambalpur",
         "rawType": "bool",
         "type": "boolean"
        },
        {
         "name": "City_Sarnath",
         "rawType": "bool",
         "type": "boolean"
        },
        {
         "name": "City_Satara",
         "rawType": "bool",
         "type": "boolean"
        },
        {
         "name": "City_Sawai Madhopur",
         "rawType": "bool",
         "type": "boolean"
        },
        {
         "name": "City_Shimla",
         "rawType": "bool",
         "type": "boolean"
        },
        {
         "name": "City_Shirdi",
         "rawType": "bool",
         "type": "boolean"
        },
        {
         "name": "City_Shivamogga",
         "rawType": "bool",
         "type": "boolean"
        },
        {
         "name": "City_Shoja",
         "rawType": "bool",
         "type": "boolean"
        },
        {
         "name": "City_Siliguri",
         "rawType": "bool",
         "type": "boolean"
        },
        {
         "name": "City_Sivasagar",
         "rawType": "bool",
         "type": "boolean"
        },
        {
         "name": "City_Somnath",
         "rawType": "bool",
         "type": "boolean"
        },
        {
         "name": "City_Spiti Valley",
         "rawType": "bool",
         "type": "boolean"
        },
        {
         "name": "City_Srinagar",
         "rawType": "bool",
         "type": "boolean"
        },
        {
         "name": "City_Srisailam",
         "rawType": "bool",
         "type": "boolean"
        },
        {
         "name": "City_Sundarbans",
         "rawType": "bool",
         "type": "boolean"
        },
        {
         "name": "City_Tarkarli",
         "rawType": "bool",
         "type": "boolean"
        },
        {
         "name": "City_Tawang",
         "rawType": "bool",
         "type": "boolean"
        },
        {
         "name": "City_Thanjavur",
         "rawType": "bool",
         "type": "boolean"
        },
        {
         "name": "City_Thekkady",
         "rawType": "bool",
         "type": "boolean"
        },
        {
         "name": "City_Thiruvananthapuram",
         "rawType": "bool",
         "type": "boolean"
        },
        {
         "name": "City_Tirunelveli",
         "rawType": "bool",
         "type": "boolean"
        },
        {
         "name": "City_Udaipur",
         "rawType": "bool",
         "type": "boolean"
        },
        {
         "name": "City_Udhampur",
         "rawType": "bool",
         "type": "boolean"
        },
        {
         "name": "City_Ujjain",
         "rawType": "bool",
         "type": "boolean"
        },
        {
         "name": "City_Unakoti",
         "rawType": "bool",
         "type": "boolean"
        },
        {
         "name": "City_Uttarkashi",
         "rawType": "bool",
         "type": "boolean"
        },
        {
         "name": "City_Vadodara",
         "rawType": "bool",
         "type": "boolean"
        },
        {
         "name": "City_Varanasi",
         "rawType": "bool",
         "type": "boolean"
        },
        {
         "name": "City_Varkala",
         "rawType": "bool",
         "type": "boolean"
        },
        {
         "name": "City_Vijayawada",
         "rawType": "bool",
         "type": "boolean"
        },
        {
         "name": "City_Visakhapatnam",
         "rawType": "bool",
         "type": "boolean"
        },
        {
         "name": "City_Vizianagaram",
         "rawType": "bool",
         "type": "boolean"
        },
        {
         "name": "City_Vrindavan",
         "rawType": "bool",
         "type": "boolean"
        },
        {
         "name": "City_Wayanad",
         "rawType": "bool",
         "type": "boolean"
        },
        {
         "name": "City_Yercaud",
         "rawType": "bool",
         "type": "boolean"
        },
        {
         "name": "City_dalhousie",
         "rawType": "bool",
         "type": "boolean"
        },
        {
         "name": "Type_Adventure Sport",
         "rawType": "bool",
         "type": "boolean"
        },
        {
         "name": "Type_Amusement Park",
         "rawType": "bool",
         "type": "boolean"
        },
        {
         "name": "Type_Beach",
         "rawType": "bool",
         "type": "boolean"
        },
        {
         "name": "Type_Bird Sanctuary",
         "rawType": "bool",
         "type": "boolean"
        },
        {
         "name": "Type_Border Crossing",
         "rawType": "bool",
         "type": "boolean"
        },
        {
         "name": "Type_Botanical Garden",
         "rawType": "bool",
         "type": "boolean"
        },
        {
         "name": "Type_Bridge",
         "rawType": "bool",
         "type": "boolean"
        },
        {
         "name": "Type_Cave",
         "rawType": "bool",
         "type": "boolean"
        },
        {
         "name": "Type_Church",
         "rawType": "bool",
         "type": "boolean"
        },
        {
         "name": "Type_Commercial Complex",
         "rawType": "bool",
         "type": "boolean"
        },
        {
         "name": "Type_Confluence",
         "rawType": "bool",
         "type": "boolean"
        },
        {
         "name": "Type_Cricket Ground",
         "rawType": "bool",
         "type": "boolean"
        },
        {
         "name": "Type_Cultural",
         "rawType": "bool",
         "type": "boolean"
        },
        {
         "name": "Type_Dam",
         "rawType": "bool",
         "type": "boolean"
        },
        {
         "name": "Type_Entertainment",
         "rawType": "bool",
         "type": "boolean"
        },
        {
         "name": "Type_Film Studio",
         "rawType": "bool",
         "type": "boolean"
        },
        {
         "name": "Type_Fort",
         "rawType": "bool",
         "type": "boolean"
        },
        {
         "name": "Type_Ghat",
         "rawType": "bool",
         "type": "boolean"
        },
        {
         "name": "Type_Government Building",
         "rawType": "bool",
         "type": "boolean"
        },
        {
         "name": "Type_Gravity Hill",
         "rawType": "bool",
         "type": "boolean"
        },
        {
         "name": "Type_Gurudwara",
         "rawType": "bool",
         "type": "boolean"
        },
        {
         "name": "Type_Hill",
         "rawType": "bool",
         "type": "boolean"
        },
        {
         "name": "Type_Historical",
         "rawType": "bool",
         "type": "boolean"
        },
        {
         "name": "Type_Island",
         "rawType": "bool",
         "type": "boolean"
        },
        {
         "name": "Type_Lake",
         "rawType": "bool",
         "type": "boolean"
        },
        {
         "name": "Type_Landmark",
         "rawType": "bool",
         "type": "boolean"
        },
        {
         "name": "Type_Mall",
         "rawType": "bool",
         "type": "boolean"
        },
        {
         "name": "Type_Market",
         "rawType": "bool",
         "type": "boolean"
        },
        {
         "name": "Type_Mausoleum",
         "rawType": "bool",
         "type": "boolean"
        },
        {
         "name": "Type_Memorial",
         "rawType": "bool",
         "type": "boolean"
        },
        {
         "name": "Type_Monastery",
         "rawType": "bool",
         "type": "boolean"
        },
        {
         "name": "Type_Monument",
         "rawType": "bool",
         "type": "boolean"
        },
        {
         "name": "Type_Mountain Peak",
         "rawType": "bool",
         "type": "boolean"
        },
        {
         "name": "Type_Museum",
         "rawType": "bool",
         "type": "boolean"
        },
        {
         "name": "Type_National Park",
         "rawType": "bool",
         "type": "boolean"
        },
        {
         "name": "Type_Natural Feature",
         "rawType": "bool",
         "type": "boolean"
        },
        {
         "name": "Type_Observatory",
         "rawType": "bool",
         "type": "boolean"
        },
        {
         "name": "Type_Orchard",
         "rawType": "bool",
         "type": "boolean"
        },
        {
         "name": "Type_Palace",
         "rawType": "bool",
         "type": "boolean"
        },
        {
         "name": "Type_Park",
         "rawType": "bool",
         "type": "boolean"
        },
        {
         "name": "Type_Prehistoric Site",
         "rawType": "bool",
         "type": "boolean"
        },
        {
         "name": "Type_Promenade",
         "rawType": "bool",
         "type": "boolean"
        },
        {
         "name": "Type_Religious Complex",
         "rawType": "bool",
         "type": "boolean"
        },
        {
         "name": "Type_Religious Shrine",
         "rawType": "bool",
         "type": "boolean"
        },
        {
         "name": "Type_Religious Site",
         "rawType": "bool",
         "type": "boolean"
        },
        {
         "name": "Type_River Island",
         "rawType": "bool",
         "type": "boolean"
        },
        {
         "name": "Type_Rock Carvings",
         "rawType": "bool",
         "type": "boolean"
        },
        {
         "name": "Type_Scenic Area",
         "rawType": "bool",
         "type": "boolean"
        },
        {
         "name": "Type_Scenic Point",
         "rawType": "bool",
         "type": "boolean"
        },
        {
         "name": "Type_Science",
         "rawType": "bool",
         "type": "boolean"
        },
        {
         "name": "Type_Sculpture Garden",
         "rawType": "bool",
         "type": "boolean"
        },
        {
         "name": "Type_Shrine",
         "rawType": "bool",
         "type": "boolean"
        },
        {
         "name": "Type_Site",
         "rawType": "bool",
         "type": "boolean"
        },
        {
         "name": "Type_Ski Resort",
         "rawType": "bool",
         "type": "boolean"
        },
        {
         "name": "Type_Spiritual Center",
         "rawType": "bool",
         "type": "boolean"
        },
        {
         "name": "Type_Stepwell",
         "rawType": "bool",
         "type": "boolean"
        },
        {
         "name": "Type_Sunrise Point",
         "rawType": "bool",
         "type": "boolean"
        },
        {
         "name": "Type_Suspension Bridge",
         "rawType": "bool",
         "type": "boolean"
        },
        {
         "name": "Type_Tea Plantation",
         "rawType": "bool",
         "type": "boolean"
        },
        {
         "name": "Type_Temple",
         "rawType": "bool",
         "type": "boolean"
        },
        {
         "name": "Type_Temples",
         "rawType": "bool",
         "type": "boolean"
        },
        {
         "name": "Type_Theme Park",
         "rawType": "bool",
         "type": "boolean"
        },
        {
         "name": "Type_Tomb",
         "rawType": "bool",
         "type": "boolean"
        },
        {
         "name": "Type_Tombs",
         "rawType": "bool",
         "type": "boolean"
        },
        {
         "name": "Type_Township",
         "rawType": "bool",
         "type": "boolean"
        },
        {
         "name": "Type_Trekking",
         "rawType": "bool",
         "type": "boolean"
        },
        {
         "name": "Type_Urban Development Project",
         "rawType": "bool",
         "type": "boolean"
        },
        {
         "name": "Type_Valley",
         "rawType": "bool",
         "type": "boolean"
        },
        {
         "name": "Type_Viewpoint",
         "rawType": "bool",
         "type": "boolean"
        },
        {
         "name": "Type_Village",
         "rawType": "bool",
         "type": "boolean"
        },
        {
         "name": "Type_Vineyard",
         "rawType": "bool",
         "type": "boolean"
        },
        {
         "name": "Type_War Memorial",
         "rawType": "bool",
         "type": "boolean"
        },
        {
         "name": "Type_Waterfall",
         "rawType": "bool",
         "type": "boolean"
        },
        {
         "name": "Type_Wildlife Sanctuary",
         "rawType": "bool",
         "type": "boolean"
        },
        {
         "name": "Type_Zoo",
         "rawType": "bool",
         "type": "boolean"
        },
        {
         "name": "AirportWith50kmRadius_No",
         "rawType": "bool",
         "type": "boolean"
        },
        {
         "name": "AirportWith50kmRadius_Yes",
         "rawType": "bool",
         "type": "boolean"
        },
        {
         "name": "Significance_Adventure",
         "rawType": "bool",
         "type": "boolean"
        },
        {
         "name": "Significance_Agricultural",
         "rawType": "bool",
         "type": "boolean"
        },
        {
         "name": "Significance_Archaeological",
         "rawType": "bool",
         "type": "boolean"
        },
        {
         "name": "Significance_Architectural",
         "rawType": "bool",
         "type": "boolean"
        },
        {
         "name": "Significance_Artistic",
         "rawType": "bool",
         "type": "boolean"
        },
        {
         "name": "Significance_Botanical",
         "rawType": "bool",
         "type": "boolean"
        },
        {
         "name": "Significance_Cultural",
         "rawType": "bool",
         "type": "boolean"
        },
        {
         "name": "Significance_Educational",
         "rawType": "bool",
         "type": "boolean"
        },
        {
         "name": "Significance_Engineering Marvel",
         "rawType": "bool",
         "type": "boolean"
        },
        {
         "name": "Significance_Entertainment",
         "rawType": "bool",
         "type": "boolean"
        },
        {
         "name": "Significance_Environmental",
         "rawType": "bool",
         "type": "boolean"
        },
        {
         "name": "Significance_Food",
         "rawType": "bool",
         "type": "boolean"
        },
        {
         "name": "Significance_Historical",
         "rawType": "bool",
         "type": "boolean"
        },
        {
         "name": "Significance_Market",
         "rawType": "bool",
         "type": "boolean"
        },
        {
         "name": "Significance_Natural Wonder",
         "rawType": "bool",
         "type": "boolean"
        },
        {
         "name": "Significance_Nature",
         "rawType": "bool",
         "type": "boolean"
        },
        {
         "name": "Significance_Recreational",
         "rawType": "bool",
         "type": "boolean"
        },
        {
         "name": "Significance_Religious",
         "rawType": "bool",
         "type": "boolean"
        },
        {
         "name": "Significance_Scenic",
         "rawType": "bool",
         "type": "boolean"
        },
        {
         "name": "Significance_Scientific",
         "rawType": "bool",
         "type": "boolean"
        },
        {
         "name": "Significance_Shopping",
         "rawType": "bool",
         "type": "boolean"
        },
        {
         "name": "Significance_Spiritual",
         "rawType": "bool",
         "type": "boolean"
        },
        {
         "name": "Significance_Sports",
         "rawType": "bool",
         "type": "boolean"
        },
        {
         "name": "Significance_Wildlife",
         "rawType": "bool",
         "type": "boolean"
        },
        {
         "name": "DSLRAllowed",
         "rawType": "object",
         "type": "string"
        }
       ],
       "conversionMethod": "pd.DataFrame",
       "ref": "d29ccd3c-3764-42c9-990c-3c18149e99d9",
       "rows": [
        [
         "0",
         "3.0",
         "4.9",
         "7500",
         "0.1",
         "False",
         "False",
         "False",
         "False",
         "False",
         "True",
         "False",
         "False",
         "False",
         "False",
         "False",
         "False",
         "False",
         "False",
         "False",
         "True",
         "False",
         "False",
         "False",
         "False",
         "False",
         "False",
         "False",
         "False",
         "False",
         "False",
         "False",
         "False",
         "False",
         "False",
         "False",
         "False",
         "False",
         "False",
         "False",
         "False",
         "False",
         "False",
         "False",
         "False",
         "False",
         "False",
         "False",
         "False",
         "False",
         "False",
         "False",
         "False",
         "False",
         "False",
         "False",
         "False",
         "False",
         "False",
         "False",
         "False",
         "False",
         "False",
         "False",
         "False",
         "False",
         "False",
         "False",
         "False",
         "False",
         "False",
         "False",
         "False",
         "False",
         "False",
         "False",
         "False",
         "False",
         "False",
         "False",
         "False",
         "False",
         "False",
         "False",
         "False",
         "False",
         "False",
         "False",
         "False",
         "False",
         "False",
         "False",
         "False",
         "False",
         "False",
         "False",
         "False",
         "False",
         "False",
         "False",
         "False",
         "False",
         "False",
         "False",
         "False",
         "False",
         "False",
         "False",
         "False",
         "False",
         "False",
         "False",
         "False",
         "False",
         "False",
         "False",
         "False",
         "False",
         "False",
         "False",
         "False",
         "False",
         "False",
         "False",
         "False",
         "False",
         "False",
         "False",
         "False",
         "False",
         "False",
         "False",
         "False",
         "False",
         "False",
         "False",
         "False",
         "False",
         "False",
         "False",
         "False",
         "False",
         "False",
         "False",
         "False",
         "False",
         "False",
         "False",
         "False",
         "False",
         "False",
         "False",
         "False",
         "False",
         "False",
         "False",
         "False",
         "False",
         "False",
         "False",
         "False",
         "False",
         "False",
         "False",
         "False",
         "False",
         "False",
         "False",
         "False",
         "False",
         "False",
         "False",
         "False",
         "False",
         "False",
         "False",
         "False",
         "False",
         "False",
         "False",
         "False",
         "False",
         "False",
         "False",
         "False",
         "False",
         "False",
         "False",
         "False",
         "False",
         "False",
         "False",
         "False",
         "False",
         "False",
         "False",
         "False",
         "False",
         "False",
         "False",
         "False",
         "False",
         "False",
         "False",
         "False",
         "False",
         "False",
         "False",
         "False",
         "False",
         "False",
         "False",
         "True",
         "False",
         "False",
         "False",
         "False",
         "False",
         "False",
         "False",
         "False",
         "False",
         "False",
         "False",
         "False",
         "False",
         "False",
         "False",
         "False",
         "False",
         "False",
         "False",
         "False",
         "False",
         "False",
         "False",
         "False",
         "False",
         "False",
         "False",
         "False",
         "False",
         "False",
         "False",
         "False",
         "False",
         "False",
         "False",
         "False",
         "False",
         "False",
         "False",
         "False",
         "False",
         "False",
         "False",
         "False",
         "False",
         "False",
         "False",
         "False",
         "False",
         "False",
         "False",
         "False",
         "True",
         "False",
         "False",
         "False",
         "False",
         "False",
         "False",
         "False",
         "False",
         "False",
         "False",
         "False",
         "False",
         "False",
         "False",
         "False",
         "False",
         "False",
         "False",
         "False",
         "False",
         "False",
         "False",
         "False",
         "False",
         "False",
         "False",
         "False",
         "False",
         "False",
         "False",
         "False",
         "False",
         "False",
         "False",
         "False",
         "False",
         "False",
         "False",
         "False",
         "False",
         "False",
         "False",
         "False",
         "False",
         "False",
         "False",
         "False",
         "False",
         "False",
         "False",
         "False",
         "False",
         "False",
         "False",
         "False",
         "False",
         "False",
         "False",
         "False",
         "False",
         "False",
         "False",
         "False",
         "True",
         "False",
         "False",
         "False",
         "False",
         "False",
         "False",
         "True",
         "False",
         "False",
         "False",
         "False",
         "False",
         "False",
         "False",
         "False",
         "False",
         "False",
         "False",
         "False",
         "False",
         "False",
         "False",
         "False",
         "False",
         "Yes"
        ],
        [
         "1",
         "1.5",
         "4.9",
         "0",
         "1.9",
         "False",
         "False",
         "False",
         "True",
         "False",
         "False",
         "False",
         "False",
         "False",
         "False",
         "False",
         "False",
         "False",
         "False",
         "False",
         "False",
         "False",
         "False",
         "False",
         "False",
         "False",
         "False",
         "False",
         "False",
         "False",
         "False",
         "False",
         "False",
         "True",
         "False",
         "False",
         "False",
         "False",
         "False",
         "False",
         "False",
         "False",
         "False",
         "False",
         "False",
         "False",
         "False",
         "False",
         "False",
         "False",
         "False",
         "False",
         "False",
         "False",
         "True",
         "False",
         "False",
         "False",
         "False",
         "False",
         "False",
         "False",
         "False",
         "False",
         "False",
         "False",
         "False",
         "False",
         "False",
         "False",
         "False",
         "False",
         "False",
         "False",
         "False",
         "False",
         "False",
         "False",
         "False",
         "False",
         "False",
         "False",
         "False",
         "False",
         "False",
         "False",
         "False",
         "False",
         "False",
         "False",
         "False",
         "False",
         "False",
         "False",
         "False",
         "False",
         "False",
         "False",
         "False",
         "False",
         "False",
         "False",
         "False",
         "False",
         "False",
         "False",
         "False",
         "False",
         "False",
         "False",
         "False",
         "False",
         "False",
         "False",
         "False",
         "False",
         "False",
         "False",
         "False",
         "False",
         "False",
         "False",
         "False",
         "False",
         "False",
         "False",
         "False",
         "False",
         "False",
         "False",
         "False",
         "False",
         "False",
         "False",
         "False",
         "False",
         "False",
         "False",
         "False",
         "False",
         "False",
         "False",
         "False",
         "False",
         "False",
         "False",
         "False",
         "False",
         "False",
         "False",
         "False",
         "False",
         "False",
         "False",
         "False",
         "False",
         "False",
         "False",
         "False",
         "False",
         "False",
         "False",
         "False",
         "False",
         "False",
         "False",
         "False",
         "False",
         "False",
         "False",
         "False",
         "False",
         "False",
         "False",
         "False",
         "False",
         "False",
         "False",
         "False",
         "False",
         "False",
         "False",
         "False",
         "False",
         "False",
         "False",
         "False",
         "False",
         "False",
         "False",
         "False",
         "False",
         "False",
         "False",
         "False",
         "False",
         "False",
         "False",
         "False",
         "False",
         "False",
         "False",
         "False",
         "False",
         "False",
         "False",
         "False",
         "False",
         "False",
         "False",
         "False",
         "False",
         "False",
         "False",
         "False",
         "False",
         "False",
         "False",
         "False",
         "False",
         "False",
         "False",
         "False",
         "False",
         "False",
         "False",
         "False",
         "False",
         "False",
         "False",
         "False",
         "False",
         "False",
         "False",
         "False",
         "False",
         "False",
         "False",
         "False",
         "False",
         "False",
         "False",
         "False",
         "False",
         "False",
         "False",
         "False",
         "False",
         "False",
         "False",
         "False",
         "False",
         "False",
         "False",
         "False",
         "False",
         "False",
         "False",
         "False",
         "False",
         "False",
         "False",
         "False",
         "False",
         "False",
         "False",
         "False",
         "False",
         "False",
         "False",
         "False",
         "False",
         "False",
         "False",
         "False",
         "False",
         "False",
         "False",
         "False",
         "False",
         "False",
         "False",
         "False",
         "False",
         "False",
         "False",
         "False",
         "False",
         "False",
         "False",
         "False",
         "False",
         "False",
         "False",
         "False",
         "False",
         "False",
         "True",
         "False",
         "False",
         "False",
         "False",
         "False",
         "False",
         "False",
         "False",
         "False",
         "False",
         "False",
         "False",
         "False",
         "False",
         "False",
         "False",
         "False",
         "False",
         "False",
         "False",
         "False",
         "False",
         "False",
         "False",
         "False",
         "False",
         "False",
         "False",
         "False",
         "False",
         "False",
         "True",
         "False",
         "False",
         "False",
         "False",
         "False",
         "False",
         "False",
         "False",
         "False",
         "False",
         "False",
         "False",
         "False",
         "False",
         "False",
         "False",
         "False",
         "False",
         "False",
         "False",
         "False",
         "True",
         "False",
         "False",
         "Yes"
        ],
        [
         "2",
         "2.0",
         "4.9",
         "20",
         "0.15",
         "False",
         "False",
         "False",
         "True",
         "False",
         "False",
         "False",
         "False",
         "False",
         "False",
         "False",
         "False",
         "False",
         "False",
         "False",
         "False",
         "False",
         "False",
         "False",
         "False",
         "False",
         "False",
         "True",
         "False",
         "False",
         "False",
         "False",
         "False",
         "False",
         "False",
         "False",
         "False",
         "False",
         "False",
         "False",
         "False",
         "False",
         "False",
         "False",
         "False",
         "False",
         "False",
         "False",
         "False",
         "False",
         "False",
         "False",
         "False",
         "False",
         "False",
         "False",
         "False",
         "False",
         "False",
         "False",
         "False",
         "False",
         "False",
         "False",
         "False",
         "False",
         "False",
         "False",
         "False",
         "False",
         "False",
         "False",
         "False",
         "False",
         "False",
         "False",
         "False",
         "False",
         "False",
         "False",
         "False",
         "False",
         "False",
         "False",
         "False",
         "False",
         "False",
         "False",
         "False",
         "False",
         "False",
         "False",
         "False",
         "False",
         "False",
         "False",
         "False",
         "False",
         "False",
         "False",
         "False",
         "False",
         "False",
         "False",
         "False",
         "False",
         "False",
         "False",
         "False",
         "False",
         "False",
         "False",
         "False",
         "False",
         "False",
         "False",
         "False",
         "False",
         "False",
         "False",
         "False",
         "False",
         "False",
         "False",
         "False",
         "False",
         "False",
         "False",
         "False",
         "False",
         "False",
         "False",
         "False",
         "False",
         "False",
         "False",
         "False",
         "False",
         "False",
         "False",
         "False",
         "False",
         "False",
         "False",
         "False",
         "False",
         "False",
         "False",
         "False",
         "False",
         "False",
         "False",
         "False",
         "False",
         "False",
         "False",
         "False",
         "False",
         "False",
         "False",
         "True",
         "False",
         "False",
         "False",
         "False",
         "False",
         "False",
         "False",
         "False",
         "False",
         "False",
         "False",
         "False",
         "False",
         "False",
         "False",
         "False",
         "False",
         "False",
         "False",
         "False",
         "False",
         "False",
         "False",
         "False",
         "False",
         "False",
         "False",
         "False",
         "False",
         "False",
         "False",
         "False",
         "False",
         "False",
         "False",
         "False",
         "False",
         "False",
         "False",
         "False",
         "False",
         "False",
         "False",
         "False",
         "False",
         "False",
         "False",
         "False",
         "False",
         "False",
         "False",
         "False",
         "False",
         "False",
         "False",
         "False",
         "False",
         "False",
         "False",
         "False",
         "False",
         "False",
         "False",
         "False",
         "False",
         "False",
         "False",
         "False",
         "False",
         "False",
         "False",
         "False",
         "False",
         "False",
         "False",
         "False",
         "False",
         "False",
         "False",
         "False",
         "False",
         "False",
         "False",
         "False",
         "False",
         "False",
         "False",
         "False",
         "False",
         "False",
         "False",
         "False",
         "False",
         "False",
         "False",
         "False",
         "False",
         "False",
         "False",
         "False",
         "False",
         "False",
         "False",
         "False",
         "False",
         "False",
         "False",
         "False",
         "False",
         "False",
         "False",
         "False",
         "False",
         "False",
         "False",
         "False",
         "True",
         "False",
         "False",
         "False",
         "False",
         "False",
         "False",
         "False",
         "False",
         "False",
         "False",
         "False",
         "False",
         "False",
         "False",
         "False",
         "False",
         "False",
         "False",
         "False",
         "False",
         "False",
         "False",
         "False",
         "False",
         "False",
         "False",
         "False",
         "False",
         "False",
         "False",
         "False",
         "False",
         "False",
         "False",
         "False",
         "False",
         "False",
         "False",
         "False",
         "False",
         "False",
         "False",
         "False",
         "False",
         "False",
         "False",
         "False",
         "False",
         "False",
         "False",
         "False",
         "True",
         "False",
         "False",
         "False",
         "False",
         "False",
         "False",
         "False",
         "False",
         "False",
         "False",
         "False",
         "False",
         "False",
         "False",
         "False",
         "True",
         "False",
         "False",
         "False",
         "False",
         "False",
         "False",
         "False",
         "False",
         "Yes"
        ],
        [
         "3",
         "2.0",
         "4.8",
         "0",
         "1.05",
         "False",
         "False",
         "False",
         "False",
         "False",
         "True",
         "False",
         "False",
         "False",
         "False",
         "False",
         "False",
         "False",
         "False",
         "False",
         "False",
         "False",
         "False",
         "False",
         "False",
         "False",
         "False",
         "False",
         "False",
         "False",
         "True",
         "False",
         "False",
         "False",
         "False",
         "False",
         "False",
         "False",
         "False",
         "False",
         "False",
         "False",
         "False",
         "False",
         "False",
         "False",
         "False",
         "False",
         "False",
         "False",
         "False",
         "False",
         "False",
         "False",
         "False",
         "False",
         "False",
         "False",
         "False",
         "False",
         "False",
         "False",
         "False",
         "False",
         "False",
         "False",
         "False",
         "False",
         "False",
         "False",
         "False",
         "False",
         "False",
         "False",
         "False",
         "False",
         "False",
         "False",
         "False",
         "False",
         "False",
         "False",
         "False",
         "False",
         "False",
         "False",
         "False",
         "False",
         "False",
         "False",
         "False",
         "False",
         "False",
         "False",
         "False",
         "False",
         "False",
         "False",
         "False",
         "False",
         "False",
         "False",
         "False",
         "False",
         "False",
         "False",
         "False",
         "False",
         "False",
         "False",
         "False",
         "False",
         "False",
         "False",
         "False",
         "False",
         "False",
         "False",
         "False",
         "False",
         "False",
         "False",
         "False",
         "False",
         "False",
         "False",
         "False",
         "False",
         "False",
         "False",
         "False",
         "False",
         "False",
         "False",
         "False",
         "False",
         "False",
         "False",
         "False",
         "False",
         "False",
         "False",
         "False",
         "False",
         "False",
         "False",
         "False",
         "False",
         "False",
         "False",
         "False",
         "False",
         "False",
         "False",
         "False",
         "False",
         "False",
         "False",
         "False",
         "False",
         "False",
         "False",
         "False",
         "False",
         "False",
         "False",
         "False",
         "False",
         "False",
         "False",
         "False",
         "False",
         "False",
         "False",
         "False",
         "False",
         "False",
         "True",
         "False",
         "False",
         "False",
         "False",
         "False",
         "False",
         "False",
         "False",
         "False",
         "False",
         "False",
         "False",
         "False",
         "False",
         "False",
         "False",
         "False",
         "False",
         "False",
         "False",
         "False",
         "False",
         "False",
         "False",
         "False",
         "False",
         "False",
         "False",
         "False",
         "False",
         "False",
         "False",
         "False",
         "False",
         "False",
         "False",
         "False",
         "False",
         "False",
         "False",
         "False",
         "False",
         "False",
         "False",
         "False",
         "False",
         "False",
         "False",
         "False",
         "False",
         "False",
         "False",
         "False",
         "False",
         "False",
         "False",
         "False",
         "False",
         "False",
         "False",
         "False",
         "False",
         "False",
         "False",
         "False",
         "False",
         "False",
         "False",
         "False",
         "False",
         "False",
         "False",
         "False",
         "False",
         "False",
         "False",
         "False",
         "False",
         "False",
         "False",
         "False",
         "False",
         "False",
         "False",
         "False",
         "False",
         "False",
         "False",
         "False",
         "False",
         "False",
         "False",
         "False",
         "False",
         "False",
         "False",
         "False",
         "False",
         "False",
         "False",
         "False",
         "False",
         "False",
         "False",
         "False",
         "False",
         "False",
         "False",
         "False",
         "False",
         "False",
         "False",
         "False",
         "False",
         "False",
         "False",
         "False",
         "False",
         "False",
         "False",
         "False",
         "False",
         "False",
         "False",
         "False",
         "False",
         "False",
         "False",
         "False",
         "False",
         "False",
         "False",
         "False",
         "False",
         "True",
         "False",
         "False",
         "False",
         "False",
         "False",
         "False",
         "False",
         "False",
         "False",
         "False",
         "False",
         "False",
         "False",
         "False",
         "False",
         "False",
         "True",
         "False",
         "False",
         "False",
         "False",
         "False",
         "False",
         "False",
         "False",
         "False",
         "False",
         "False",
         "False",
         "False",
         "False",
         "False",
         "False",
         "False",
         "True",
         "False",
         "False",
         "False",
         "False",
         "False",
         "False",
         "No"
        ],
        [
         "4",
         "2.0",
         "4.8",
         "0",
         "0.39",
         "False",
         "False",
         "False",
         "False",
         "False",
         "True",
         "False",
         "False",
         "False",
         "False",
         "False",
         "False",
         "False",
         "False",
         "False",
         "True",
         "False",
         "False",
         "False",
         "False",
         "False",
         "False",
         "False",
         "False",
         "False",
         "False",
         "False",
         "False",
         "False",
         "False",
         "False",
         "False",
         "False",
         "False",
         "False",
         "False",
         "False",
         "False",
         "False",
         "False",
         "False",
         "False",
         "False",
         "False",
         "False",
         "False",
         "False",
         "False",
         "False",
         "False",
         "False",
         "False",
         "False",
         "False",
         "False",
         "False",
         "False",
         "False",
         "False",
         "False",
         "False",
         "False",
         "False",
         "False",
         "False",
         "False",
         "False",
         "False",
         "False",
         "False",
         "False",
         "False",
         "False",
         "False",
         "False",
         "False",
         "False",
         "False",
         "False",
         "False",
         "False",
         "False",
         "False",
         "False",
         "False",
         "False",
         "False",
         "False",
         "False",
         "False",
         "False",
         "False",
         "False",
         "False",
         "False",
         "False",
         "False",
         "False",
         "False",
         "False",
         "False",
         "False",
         "False",
         "False",
         "False",
         "False",
         "False",
         "False",
         "False",
         "False",
         "False",
         "False",
         "False",
         "False",
         "False",
         "False",
         "False",
         "False",
         "False",
         "False",
         "False",
         "False",
         "False",
         "False",
         "False",
         "False",
         "False",
         "False",
         "False",
         "False",
         "False",
         "False",
         "False",
         "False",
         "False",
         "False",
         "False",
         "False",
         "False",
         "False",
         "False",
         "False",
         "False",
         "False",
         "False",
         "False",
         "False",
         "False",
         "False",
         "False",
         "False",
         "False",
         "False",
         "False",
         "False",
         "False",
         "False",
         "False",
         "False",
         "False",
         "False",
         "False",
         "False",
         "False",
         "False",
         "False",
         "False",
         "False",
         "False",
         "False",
         "False",
         "False",
         "False",
         "False",
         "False",
         "False",
         "False",
         "False",
         "False",
         "False",
         "False",
         "False",
         "False",
         "False",
         "False",
         "False",
         "False",
         "False",
         "False",
         "False",
         "False",
         "False",
         "False",
         "False",
         "False",
         "False",
         "False",
         "False",
         "False",
         "False",
         "False",
         "False",
         "False",
         "False",
         "False",
         "False",
         "False",
         "False",
         "False",
         "False",
         "False",
         "False",
         "False",
         "False",
         "False",
         "False",
         "False",
         "False",
         "False",
         "False",
         "False",
         "False",
         "True",
         "False",
         "False",
         "False",
         "False",
         "False",
         "False",
         "False",
         "False",
         "False",
         "False",
         "False",
         "False",
         "False",
         "False",
         "False",
         "False",
         "False",
         "False",
         "False",
         "False",
         "False",
         "False",
         "False",
         "False",
         "False",
         "False",
         "False",
         "False",
         "False",
         "False",
         "False",
         "False",
         "False",
         "False",
         "False",
         "False",
         "False",
         "False",
         "False",
         "False",
         "False",
         "False",
         "False",
         "False",
         "False",
         "False",
         "False",
         "False",
         "False",
         "False",
         "False",
         "False",
         "False",
         "False",
         "False",
         "False",
         "False",
         "False",
         "False",
         "False",
         "False",
         "False",
         "False",
         "False",
         "False",
         "False",
         "False",
         "False",
         "False",
         "False",
         "False",
         "False",
         "False",
         "False",
         "False",
         "False",
         "False",
         "False",
         "False",
         "False",
         "False",
         "False",
         "False",
         "False",
         "True",
         "False",
         "False",
         "False",
         "False",
         "False",
         "False",
         "False",
         "False",
         "False",
         "False",
         "False",
         "False",
         "False",
         "False",
         "False",
         "True",
         "False",
         "False",
         "False",
         "False",
         "False",
         "False",
         "False",
         "False",
         "False",
         "False",
         "False",
         "False",
         "False",
         "False",
         "False",
         "False",
         "False",
         "False",
         "True",
         "False",
         "False",
         "False",
         "False",
         "False",
         "False",
         "No"
        ]
       ],
       "shape": {
        "columns": 354,
        "rows": 5
       }
      },
      "text/html": [
       "<div>\n",
       "<style scoped>\n",
       "    .dataframe tbody tr th:only-of-type {\n",
       "        vertical-align: middle;\n",
       "    }\n",
       "\n",
       "    .dataframe tbody tr th {\n",
       "        vertical-align: top;\n",
       "    }\n",
       "\n",
       "    .dataframe thead th {\n",
       "        text-align: right;\n",
       "    }\n",
       "</style>\n",
       "<table border=\"1\" class=\"dataframe\">\n",
       "  <thead>\n",
       "    <tr style=\"text-align: right;\">\n",
       "      <th></th>\n",
       "      <th>TimeNeededToVisitInHrs</th>\n",
       "      <th>GoogleReviewRating</th>\n",
       "      <th>EntranceFeeInINR</th>\n",
       "      <th>NumberOfGoogleReviewInLakhs</th>\n",
       "      <th>Zone_Central</th>\n",
       "      <th>Zone_Eastern</th>\n",
       "      <th>Zone_North Eastern</th>\n",
       "      <th>Zone_Northern</th>\n",
       "      <th>Zone_Southern</th>\n",
       "      <th>Zone_Western</th>\n",
       "      <th>...</th>\n",
       "      <th>Significance_Nature</th>\n",
       "      <th>Significance_Recreational</th>\n",
       "      <th>Significance_Religious</th>\n",
       "      <th>Significance_Scenic</th>\n",
       "      <th>Significance_Scientific</th>\n",
       "      <th>Significance_Shopping</th>\n",
       "      <th>Significance_Spiritual</th>\n",
       "      <th>Significance_Sports</th>\n",
       "      <th>Significance_Wildlife</th>\n",
       "      <th>DSLRAllowed</th>\n",
       "    </tr>\n",
       "  </thead>\n",
       "  <tbody>\n",
       "    <tr>\n",
       "      <th>0</th>\n",
       "      <td>3.0</td>\n",
       "      <td>4.9</td>\n",
       "      <td>7500</td>\n",
       "      <td>0.10</td>\n",
       "      <td>False</td>\n",
       "      <td>False</td>\n",
       "      <td>False</td>\n",
       "      <td>False</td>\n",
       "      <td>False</td>\n",
       "      <td>True</td>\n",
       "      <td>...</td>\n",
       "      <td>False</td>\n",
       "      <td>False</td>\n",
       "      <td>False</td>\n",
       "      <td>False</td>\n",
       "      <td>False</td>\n",
       "      <td>False</td>\n",
       "      <td>False</td>\n",
       "      <td>False</td>\n",
       "      <td>False</td>\n",
       "      <td>Yes</td>\n",
       "    </tr>\n",
       "    <tr>\n",
       "      <th>1</th>\n",
       "      <td>1.5</td>\n",
       "      <td>4.9</td>\n",
       "      <td>0</td>\n",
       "      <td>1.90</td>\n",
       "      <td>False</td>\n",
       "      <td>False</td>\n",
       "      <td>False</td>\n",
       "      <td>True</td>\n",
       "      <td>False</td>\n",
       "      <td>False</td>\n",
       "      <td>...</td>\n",
       "      <td>False</td>\n",
       "      <td>False</td>\n",
       "      <td>False</td>\n",
       "      <td>False</td>\n",
       "      <td>False</td>\n",
       "      <td>False</td>\n",
       "      <td>True</td>\n",
       "      <td>False</td>\n",
       "      <td>False</td>\n",
       "      <td>Yes</td>\n",
       "    </tr>\n",
       "    <tr>\n",
       "      <th>2</th>\n",
       "      <td>2.0</td>\n",
       "      <td>4.9</td>\n",
       "      <td>20</td>\n",
       "      <td>0.15</td>\n",
       "      <td>False</td>\n",
       "      <td>False</td>\n",
       "      <td>False</td>\n",
       "      <td>True</td>\n",
       "      <td>False</td>\n",
       "      <td>False</td>\n",
       "      <td>...</td>\n",
       "      <td>True</td>\n",
       "      <td>False</td>\n",
       "      <td>False</td>\n",
       "      <td>False</td>\n",
       "      <td>False</td>\n",
       "      <td>False</td>\n",
       "      <td>False</td>\n",
       "      <td>False</td>\n",
       "      <td>False</td>\n",
       "      <td>Yes</td>\n",
       "    </tr>\n",
       "    <tr>\n",
       "      <th>3</th>\n",
       "      <td>2.0</td>\n",
       "      <td>4.8</td>\n",
       "      <td>0</td>\n",
       "      <td>1.05</td>\n",
       "      <td>False</td>\n",
       "      <td>False</td>\n",
       "      <td>False</td>\n",
       "      <td>False</td>\n",
       "      <td>False</td>\n",
       "      <td>True</td>\n",
       "      <td>...</td>\n",
       "      <td>False</td>\n",
       "      <td>False</td>\n",
       "      <td>True</td>\n",
       "      <td>False</td>\n",
       "      <td>False</td>\n",
       "      <td>False</td>\n",
       "      <td>False</td>\n",
       "      <td>False</td>\n",
       "      <td>False</td>\n",
       "      <td>No</td>\n",
       "    </tr>\n",
       "    <tr>\n",
       "      <th>4</th>\n",
       "      <td>2.0</td>\n",
       "      <td>4.8</td>\n",
       "      <td>0</td>\n",
       "      <td>0.39</td>\n",
       "      <td>False</td>\n",
       "      <td>False</td>\n",
       "      <td>False</td>\n",
       "      <td>False</td>\n",
       "      <td>False</td>\n",
       "      <td>True</td>\n",
       "      <td>...</td>\n",
       "      <td>False</td>\n",
       "      <td>False</td>\n",
       "      <td>True</td>\n",
       "      <td>False</td>\n",
       "      <td>False</td>\n",
       "      <td>False</td>\n",
       "      <td>False</td>\n",
       "      <td>False</td>\n",
       "      <td>False</td>\n",
       "      <td>No</td>\n",
       "    </tr>\n",
       "  </tbody>\n",
       "</table>\n",
       "<p>5 rows × 354 columns</p>\n",
       "</div>"
      ],
      "text/plain": [
       "   TimeNeededToVisitInHrs  GoogleReviewRating  EntranceFeeInINR  \\\n",
       "0                     3.0                 4.9              7500   \n",
       "1                     1.5                 4.9                 0   \n",
       "2                     2.0                 4.9                20   \n",
       "3                     2.0                 4.8                 0   \n",
       "4                     2.0                 4.8                 0   \n",
       "\n",
       "   NumberOfGoogleReviewInLakhs  Zone_Central  Zone_Eastern  \\\n",
       "0                         0.10         False         False   \n",
       "1                         1.90         False         False   \n",
       "2                         0.15         False         False   \n",
       "3                         1.05         False         False   \n",
       "4                         0.39         False         False   \n",
       "\n",
       "   Zone_North Eastern  Zone_Northern  Zone_Southern  Zone_Western  ...  \\\n",
       "0               False          False          False          True  ...   \n",
       "1               False           True          False         False  ...   \n",
       "2               False           True          False         False  ...   \n",
       "3               False          False          False          True  ...   \n",
       "4               False          False          False          True  ...   \n",
       "\n",
       "   Significance_Nature  Significance_Recreational  Significance_Religious  \\\n",
       "0                False                      False                   False   \n",
       "1                False                      False                   False   \n",
       "2                 True                      False                   False   \n",
       "3                False                      False                    True   \n",
       "4                False                      False                    True   \n",
       "\n",
       "   Significance_Scenic  Significance_Scientific  Significance_Shopping  \\\n",
       "0                False                    False                  False   \n",
       "1                False                    False                  False   \n",
       "2                False                    False                  False   \n",
       "3                False                    False                  False   \n",
       "4                False                    False                  False   \n",
       "\n",
       "   Significance_Spiritual  Significance_Sports  Significance_Wildlife  \\\n",
       "0                   False                False                  False   \n",
       "1                    True                False                  False   \n",
       "2                   False                False                  False   \n",
       "3                   False                False                  False   \n",
       "4                   False                False                  False   \n",
       "\n",
       "   DSLRAllowed  \n",
       "0          Yes  \n",
       "1          Yes  \n",
       "2          Yes  \n",
       "3           No  \n",
       "4           No  \n",
       "\n",
       "[5 rows x 354 columns]"
      ]
     },
     "metadata": {},
     "output_type": "display_data"
    },
    {
     "data": {
      "text/plain": [
       "DSLRAllowed\n",
       "Yes    244\n",
       "No     244\n",
       "Name: count, dtype: int64"
      ]
     },
     "metadata": {},
     "output_type": "display_data"
    }
   ],
   "source": [
    "smote = SMOTE(random_state=42)\n",
    "X_smote, y_smote = smote.fit_resample(X_encoded, y_encoded)\n",
    "\n",
    "X_smote_df = pd.DataFrame(X_smote, columns=X_encoded.columns)\n",
    "y_smote_series = pd.Series(y_smote, name='DSLRAllowed')\n",
    "y_smote_labels = le.inverse_transform(y_smote_series)\n",
    "\n",
    "df_smote = pd.concat([X_smote_df, pd.Series(y_smote_labels, name='DSLRAllowed')], axis=1)\n",
    "\n",
    "display(df_smote.head())\n",
    "display(df_smote.DSLRAllowed.value_counts())"
   ]
  },
  {
   "cell_type": "code",
   "execution_count": 70,
   "id": "dac56f45",
   "metadata": {},
   "outputs": [
    {
     "name": "stdout",
     "output_type": "stream",
     "text": [
      "0    58\n",
      "1    58\n",
      "Name: count, dtype: int64\n"
     ]
    },
    {
     "data": {
      "application/vnd.microsoft.datawrangler.viewer.v0+json": {
       "columns": [
        {
         "name": "index",
         "rawType": "int64",
         "type": "integer"
        },
        {
         "name": "TimeNeededToVisitInHrs",
         "rawType": "float64",
         "type": "float"
        },
        {
         "name": "GoogleReviewRating",
         "rawType": "float64",
         "type": "float"
        },
        {
         "name": "EntranceFeeInINR",
         "rawType": "float64",
         "type": "float"
        },
        {
         "name": "NumberOfGoogleReviewInLakhs",
         "rawType": "float64",
         "type": "float"
        },
        {
         "name": "Zone_Central",
         "rawType": "object",
         "type": "unknown"
        },
        {
         "name": "Zone_Eastern",
         "rawType": "object",
         "type": "unknown"
        },
        {
         "name": "Zone_North Eastern",
         "rawType": "object",
         "type": "unknown"
        },
        {
         "name": "Zone_Northern",
         "rawType": "object",
         "type": "unknown"
        },
        {
         "name": "Zone_Southern",
         "rawType": "object",
         "type": "unknown"
        },
        {
         "name": "Zone_Western",
         "rawType": "object",
         "type": "unknown"
        },
        {
         "name": "State_Andaman and Nicobar Islands",
         "rawType": "object",
         "type": "unknown"
        },
        {
         "name": "State_Andhra Pradesh",
         "rawType": "object",
         "type": "unknown"
        },
        {
         "name": "State_Arunachal Pradesh",
         "rawType": "object",
         "type": "unknown"
        },
        {
         "name": "State_Assam",
         "rawType": "object",
         "type": "unknown"
        },
        {
         "name": "State_Bihar",
         "rawType": "object",
         "type": "unknown"
        },
        {
         "name": "State_Chhattisgarh",
         "rawType": "object",
         "type": "unknown"
        },
        {
         "name": "State_Daman and Diu",
         "rawType": "object",
         "type": "unknown"
        },
        {
         "name": "State_Delhi",
         "rawType": "object",
         "type": "unknown"
        },
        {
         "name": "State_Goa",
         "rawType": "object",
         "type": "unknown"
        },
        {
         "name": "State_Gujarat",
         "rawType": "object",
         "type": "unknown"
        },
        {
         "name": "State_Haryana",
         "rawType": "object",
         "type": "unknown"
        },
        {
         "name": "State_Himachal Pradesh",
         "rawType": "object",
         "type": "unknown"
        },
        {
         "name": "State_Jammu and Kashmir",
         "rawType": "object",
         "type": "unknown"
        },
        {
         "name": "State_Jharkhand",
         "rawType": "object",
         "type": "unknown"
        },
        {
         "name": "State_Karnataka",
         "rawType": "object",
         "type": "unknown"
        },
        {
         "name": "State_Kerala",
         "rawType": "object",
         "type": "unknown"
        },
        {
         "name": "State_Ladakh",
         "rawType": "object",
         "type": "unknown"
        },
        {
         "name": "State_Madhya Pradesh",
         "rawType": "object",
         "type": "unknown"
        },
        {
         "name": "State_Maharashtra",
         "rawType": "object",
         "type": "unknown"
        },
        {
         "name": "State_Maharastra",
         "rawType": "object",
         "type": "unknown"
        },
        {
         "name": "State_Odisha",
         "rawType": "object",
         "type": "unknown"
        },
        {
         "name": "State_Puducherry",
         "rawType": "object",
         "type": "unknown"
        },
        {
         "name": "State_Punjab",
         "rawType": "object",
         "type": "unknown"
        },
        {
         "name": "State_Rajasthan",
         "rawType": "object",
         "type": "unknown"
        },
        {
         "name": "State_Sikkim",
         "rawType": "object",
         "type": "unknown"
        },
        {
         "name": "State_Tamil Nadu",
         "rawType": "object",
         "type": "unknown"
        },
        {
         "name": "State_Telangana",
         "rawType": "object",
         "type": "unknown"
        },
        {
         "name": "State_Tripura",
         "rawType": "object",
         "type": "unknown"
        },
        {
         "name": "State_Uttar Pradesh",
         "rawType": "object",
         "type": "unknown"
        },
        {
         "name": "State_Uttarakhand",
         "rawType": "object",
         "type": "unknown"
        },
        {
         "name": "State_West Bengal",
         "rawType": "object",
         "type": "unknown"
        },
        {
         "name": "City_Agartala",
         "rawType": "object",
         "type": "unknown"
        },
        {
         "name": "City_Agra",
         "rawType": "object",
         "type": "unknown"
        },
        {
         "name": "City_Ahmedabad",
         "rawType": "object",
         "type": "unknown"
        },
        {
         "name": "City_Ajanta",
         "rawType": "object",
         "type": "unknown"
        },
        {
         "name": "City_Ajmer",
         "rawType": "object",
         "type": "unknown"
        },
        {
         "name": "City_Alappuzha",
         "rawType": "object",
         "type": "unknown"
        },
        {
         "name": "City_Alibaug",
         "rawType": "object",
         "type": "unknown"
        },
        {
         "name": "City_Aligarh",
         "rawType": "object",
         "type": "unknown"
        },
        {
         "name": "City_Allahabad",
         "rawType": "object",
         "type": "unknown"
        },
        {
         "name": "City_Almora",
         "rawType": "object",
         "type": "unknown"
        },
        {
         "name": "City_Amarkantak",
         "rawType": "object",
         "type": "unknown"
        },
        {
         "name": "City_Amravati",
         "rawType": "object",
         "type": "unknown"
        },
        {
         "name": "City_Amritsar",
         "rawType": "object",
         "type": "unknown"
        },
        {
         "name": "City_Anantapur",
         "rawType": "object",
         "type": "unknown"
        },
        {
         "name": "City_Anantnag",
         "rawType": "object",
         "type": "unknown"
        },
        {
         "name": "City_Auli",
         "rawType": "object",
         "type": "unknown"
        },
        {
         "name": "City_Aurangabad",
         "rawType": "object",
         "type": "unknown"
        },
        {
         "name": "City_Auroville",
         "rawType": "object",
         "type": "unknown"
        },
        {
         "name": "City_Ayodhya",
         "rawType": "object",
         "type": "unknown"
        },
        {
         "name": "City_Badami",
         "rawType": "object",
         "type": "unknown"
        },
        {
         "name": "City_Badrinath",
         "rawType": "object",
         "type": "unknown"
        },
        {
         "name": "City_Balasore",
         "rawType": "object",
         "type": "unknown"
        },
        {
         "name": "City_Bandhavgarh",
         "rawType": "object",
         "type": "unknown"
        },
        {
         "name": "City_Bandipur",
         "rawType": "object",
         "type": "unknown"
        },
        {
         "name": "City_Bangalore",
         "rawType": "object",
         "type": "unknown"
        },
        {
         "name": "City_Baratang Island",
         "rawType": "object",
         "type": "unknown"
        },
        {
         "name": "City_Barot",
         "rawType": "object",
         "type": "unknown"
        },
        {
         "name": "City_Bastar",
         "rawType": "object",
         "type": "unknown"
        },
        {
         "name": "City_Bekal",
         "rawType": "object",
         "type": "unknown"
        },
        {
         "name": "City_Bengaluru",
         "rawType": "object",
         "type": "unknown"
        },
        {
         "name": "City_Berhampur",
         "rawType": "object",
         "type": "unknown"
        },
        {
         "name": "City_Bhimbetka",
         "rawType": "object",
         "type": "unknown"
        },
        {
         "name": "City_Bhopal",
         "rawType": "object",
         "type": "unknown"
        },
        {
         "name": "City_Bhubaneswar",
         "rawType": "object",
         "type": "unknown"
        },
        {
         "name": "City_Bhuj",
         "rawType": "object",
         "type": "unknown"
        },
        {
         "name": "City_Bijapur",
         "rawType": "object",
         "type": "unknown"
        },
        {
         "name": "City_Bikaner",
         "rawType": "object",
         "type": "unknown"
        },
        {
         "name": "City_Bir Billing",
         "rawType": "object",
         "type": "unknown"
        },
        {
         "name": "City_Bodh Gaya",
         "rawType": "object",
         "type": "unknown"
        },
        {
         "name": "City_Bolpur",
         "rawType": "object",
         "type": "unknown"
        },
        {
         "name": "City_Chamba",
         "rawType": "object",
         "type": "unknown"
        },
        {
         "name": "City_Chandigarh",
         "rawType": "object",
         "type": "unknown"
        },
        {
         "name": "City_Chennai",
         "rawType": "object",
         "type": "unknown"
        },
        {
         "name": "City_Chidambaram",
         "rawType": "object",
         "type": "unknown"
        },
        {
         "name": "City_Chikmagalur",
         "rawType": "object",
         "type": "unknown"
        },
        {
         "name": "City_Chilika",
         "rawType": "object",
         "type": "unknown"
        },
        {
         "name": "City_Chitrakoot",
         "rawType": "object",
         "type": "unknown"
        },
        {
         "name": "City_Chittorgarh",
         "rawType": "object",
         "type": "unknown"
        },
        {
         "name": "City_Chopta",
         "rawType": "object",
         "type": "unknown"
        },
        {
         "name": "City_Coimbatore",
         "rawType": "object",
         "type": "unknown"
        },
        {
         "name": "City_Cooch Behar",
         "rawType": "object",
         "type": "unknown"
        },
        {
         "name": "City_Coorg",
         "rawType": "object",
         "type": "unknown"
        },
        {
         "name": "City_Cuttack",
         "rawType": "object",
         "type": "unknown"
        },
        {
         "name": "City_Dalhousie",
         "rawType": "object",
         "type": "unknown"
        },
        {
         "name": "City_Darjeeling",
         "rawType": "object",
         "type": "unknown"
        },
        {
         "name": "City_Dehradun",
         "rawType": "object",
         "type": "unknown"
        },
        {
         "name": "City_Delhi",
         "rawType": "object",
         "type": "unknown"
        },
        {
         "name": "City_Deoghar",
         "rawType": "object",
         "type": "unknown"
        },
        {
         "name": "City_Digha",
         "rawType": "object",
         "type": "unknown"
        },
        {
         "name": "City_Diskit",
         "rawType": "object",
         "type": "unknown"
        },
        {
         "name": "City_Diu",
         "rawType": "object",
         "type": "unknown"
        },
        {
         "name": "City_Dras",
         "rawType": "object",
         "type": "unknown"
        },
        {
         "name": "City_Dumboor",
         "rawType": "object",
         "type": "unknown"
        },
        {
         "name": "City_Dwarka",
         "rawType": "object",
         "type": "unknown"
        },
        {
         "name": "City_Fatehpur Sikri",
         "rawType": "object",
         "type": "unknown"
        },
        {
         "name": "City_Gandhinagar",
         "rawType": "object",
         "type": "unknown"
        },
        {
         "name": "City_Gangtok",
         "rawType": "object",
         "type": "unknown"
        },
        {
         "name": "City_Goa",
         "rawType": "object",
         "type": "unknown"
        },
        {
         "name": "City_Gokarna",
         "rawType": "object",
         "type": "unknown"
        },
        {
         "name": "City_Guntur",
         "rawType": "object",
         "type": "unknown"
        },
        {
         "name": "City_Gurugram",
         "rawType": "object",
         "type": "unknown"
        },
        {
         "name": "City_Guwahati",
         "rawType": "object",
         "type": "unknown"
        },
        {
         "name": "City_Gwalior",
         "rawType": "object",
         "type": "unknown"
        },
        {
         "name": "City_Hajo",
         "rawType": "object",
         "type": "unknown"
        },
        {
         "name": "City_Halebidu",
         "rawType": "object",
         "type": "unknown"
        },
        {
         "name": "City_Hampi",
         "rawType": "object",
         "type": "unknown"
        },
        {
         "name": "City_Haridwar",
         "rawType": "object",
         "type": "unknown"
        },
        {
         "name": "City_Havelock Island",
         "rawType": "object",
         "type": "unknown"
        },
        {
         "name": "City_Hemis",
         "rawType": "object",
         "type": "unknown"
        },
        {
         "name": "City_Hooghly",
         "rawType": "object",
         "type": "unknown"
        },
        {
         "name": "City_Hyderabad",
         "rawType": "object",
         "type": "unknown"
        },
        {
         "name": "City_Indore",
         "rawType": "object",
         "type": "unknown"
        },
        {
         "name": "City_Jabalpur",
         "rawType": "object",
         "type": "unknown"
        },
        {
         "name": "City_Jaipur",
         "rawType": "object",
         "type": "unknown"
        },
        {
         "name": "City_Jaisalmer",
         "rawType": "object",
         "type": "unknown"
        },
        {
         "name": "City_Jalpaiguri",
         "rawType": "object",
         "type": "unknown"
        },
        {
         "name": "City_Jammu",
         "rawType": "object",
         "type": "unknown"
        },
        {
         "name": "City_Jhansi",
         "rawType": "object",
         "type": "unknown"
        },
        {
         "name": "City_Jim Corbett",
         "rawType": "object",
         "type": "unknown"
        },
        {
         "name": "City_Jodhpur",
         "rawType": "object",
         "type": "unknown"
        },
        {
         "name": "City_Joshimath",
         "rawType": "object",
         "type": "unknown"
        },
        {
         "name": "City_Junagadh",
         "rawType": "object",
         "type": "unknown"
        },
        {
         "name": "City_Kadapa",
         "rawType": "object",
         "type": "unknown"
        },
        {
         "name": "City_Kangra",
         "rawType": "object",
         "type": "unknown"
        },
        {
         "name": "City_Kanha",
         "rawType": "object",
         "type": "unknown"
        },
        {
         "name": "City_Kannur",
         "rawType": "object",
         "type": "unknown"
        },
        {
         "name": "City_Kanpur",
         "rawType": "object",
         "type": "unknown"
        },
        {
         "name": "City_Kanyakumari",
         "rawType": "object",
         "type": "unknown"
        },
        {
         "name": "City_Kargil",
         "rawType": "object",
         "type": "unknown"
        },
        {
         "name": "City_Kaziranga",
         "rawType": "object",
         "type": "unknown"
        },
        {
         "name": "City_Kedarnath",
         "rawType": "object",
         "type": "unknown"
        },
        {
         "name": "City_Kendujhar",
         "rawType": "object",
         "type": "unknown"
        },
        {
         "name": "City_Keonjhar",
         "rawType": "object",
         "type": "unknown"
        },
        {
         "name": "City_Kevadia",
         "rawType": "object",
         "type": "unknown"
        },
        {
         "name": "City_Khajuraho",
         "rawType": "object",
         "type": "unknown"
        },
        {
         "name": "City_Kinnaur",
         "rawType": "object",
         "type": "unknown"
        },
        {
         "name": "City_Kishtwar",
         "rawType": "object",
         "type": "unknown"
        },
        {
         "name": "City_Kochi",
         "rawType": "object",
         "type": "unknown"
        },
        {
         "name": "City_Kodaikanal",
         "rawType": "object",
         "type": "unknown"
        },
        {
         "name": "City_Kolhapur",
         "rawType": "object",
         "type": "unknown"
        },
        {
         "name": "City_Kolkata",
         "rawType": "object",
         "type": "unknown"
        },
        {
         "name": "City_Konark",
         "rawType": "object",
         "type": "unknown"
        },
        {
         "name": "City_Kovalam",
         "rawType": "object",
         "type": "unknown"
        },
        {
         "name": "City_Kozhikode",
         "rawType": "object",
         "type": "unknown"
        },
        {
         "name": "City_Kufri",
         "rawType": "object",
         "type": "unknown"
        },
        {
         "name": "City_Kullu",
         "rawType": "object",
         "type": "unknown"
        },
        {
         "name": "City_Kumarakom",
         "rawType": "object",
         "type": "unknown"
        },
        {
         "name": "City_Kurnool",
         "rawType": "object",
         "type": "unknown"
        },
        {
         "name": "City_Leh",
         "rawType": "object",
         "type": "unknown"
        },
        {
         "name": "City_Lonavala",
         "rawType": "object",
         "type": "unknown"
        },
        {
         "name": "City_Lucknow",
         "rawType": "object",
         "type": "unknown"
        },
        {
         "name": "City_Madurai",
         "rawType": "object",
         "type": "unknown"
        },
        {
         "name": "City_Mahabalipuram",
         "rawType": "object",
         "type": "unknown"
        },
        {
         "name": "City_Majuli",
         "rawType": "object",
         "type": "unknown"
        },
        {
         "name": "City_Manali",
         "rawType": "object",
         "type": "unknown"
        },
        {
         "name": "City_Manas",
         "rawType": "object",
         "type": "unknown"
        },
        {
         "name": "City_Mandi",
         "rawType": "object",
         "type": "unknown"
        },
        {
         "name": "City_Mandu",
         "rawType": "object",
         "type": "unknown"
        },
        {
         "name": "City_Mangalore",
         "rawType": "object",
         "type": "unknown"
        },
        {
         "name": "City_Manikaran",
         "rawType": "object",
         "type": "unknown"
        },
        {
         "name": "City_Matheran",
         "rawType": "object",
         "type": "unknown"
        },
        {
         "name": "City_Mathura",
         "rawType": "object",
         "type": "unknown"
        },
        {
         "name": "City_McLeod Ganj",
         "rawType": "object",
         "type": "unknown"
        },
        {
         "name": "City_Meerut",
         "rawType": "object",
         "type": "unknown"
        },
        {
         "name": "City_Mount Abu",
         "rawType": "object",
         "type": "unknown"
        },
        {
         "name": "City_Mumbai",
         "rawType": "object",
         "type": "unknown"
        },
        {
         "name": "City_Munnar",
         "rawType": "object",
         "type": "unknown"
        },
        {
         "name": "City_Murshidabad",
         "rawType": "object",
         "type": "unknown"
        },
        {
         "name": "City_Murudeshwar",
         "rawType": "object",
         "type": "unknown"
        },
        {
         "name": "City_Mussoorie",
         "rawType": "object",
         "type": "unknown"
        },
        {
         "name": "City_Mysore",
         "rawType": "object",
         "type": "unknown"
        },
        {
         "name": "City_Nagpur",
         "rawType": "object",
         "type": "unknown"
        },
        {
         "name": "City_Nainital",
         "rawType": "object",
         "type": "unknown"
        },
        {
         "name": "City_Namchi",
         "rawType": "object",
         "type": "unknown"
        },
        {
         "name": "City_Narkanda",
         "rawType": "object",
         "type": "unknown"
        },
        {
         "name": "City_Nashik",
         "rawType": "object",
         "type": "unknown"
        },
        {
         "name": "City_Neil Island",
         "rawType": "object",
         "type": "unknown"
        },
        {
         "name": "City_Nelliyampathy",
         "rawType": "object",
         "type": "unknown"
        },
        {
         "name": "City_New Delhi",
         "rawType": "object",
         "type": "unknown"
        },
        {
         "name": "City_Noida",
         "rawType": "object",
         "type": "unknown"
        },
        {
         "name": "City_Nubra Valley",
         "rawType": "object",
         "type": "unknown"
        },
        {
         "name": "City_Ooty",
         "rawType": "object",
         "type": "unknown"
        },
        {
         "name": "City_Orchha",
         "rawType": "object",
         "type": "unknown"
        },
        {
         "name": "City_Pachmarhi",
         "rawType": "object",
         "type": "unknown"
        },
        {
         "name": "City_Pahalgam",
         "rawType": "object",
         "type": "unknown"
        },
        {
         "name": "City_Palampur",
         "rawType": "object",
         "type": "unknown"
        },
        {
         "name": "City_Patna",
         "rawType": "object",
         "type": "unknown"
        },
        {
         "name": "City_Pelling",
         "rawType": "object",
         "type": "unknown"
        },
        {
         "name": "City_Porbandar",
         "rawType": "object",
         "type": "unknown"
        },
        {
         "name": "City_Port Blair",
         "rawType": "object",
         "type": "unknown"
        },
        {
         "name": "City_Puducherry",
         "rawType": "object",
         "type": "unknown"
        },
        {
         "name": "City_Pune",
         "rawType": "object",
         "type": "unknown"
        },
        {
         "name": "City_Puri",
         "rawType": "object",
         "type": "unknown"
        },
        {
         "name": "City_Purulia",
         "rawType": "object",
         "type": "unknown"
        },
        {
         "name": "City_Pushkar",
         "rawType": "object",
         "type": "unknown"
        },
        {
         "name": "City_Puttaparthi",
         "rawType": "object",
         "type": "unknown"
        },
        {
         "name": "City_Rajahmundry",
         "rawType": "object",
         "type": "unknown"
        },
        {
         "name": "City_Rameswaram",
         "rawType": "object",
         "type": "unknown"
        },
        {
         "name": "City_Ranchi",
         "rawType": "object",
         "type": "unknown"
        },
        {
         "name": "City_Ranikhet",
         "rawType": "object",
         "type": "unknown"
        },
        {
         "name": "City_Rann of Kutch",
         "rawType": "object",
         "type": "unknown"
        },
        {
         "name": "City_Ratnagiri",
         "rawType": "object",
         "type": "unknown"
        },
        {
         "name": "City_Ravangla",
         "rawType": "object",
         "type": "unknown"
        },
        {
         "name": "City_Rishikesh",
         "rawType": "object",
         "type": "unknown"
        },
        {
         "name": "City_Rourkela",
         "rawType": "object",
         "type": "unknown"
        },
        {
         "name": "City_Sambalpur",
         "rawType": "object",
         "type": "unknown"
        },
        {
         "name": "City_Sarnath",
         "rawType": "object",
         "type": "unknown"
        },
        {
         "name": "City_Satara",
         "rawType": "object",
         "type": "unknown"
        },
        {
         "name": "City_Sawai Madhopur",
         "rawType": "object",
         "type": "unknown"
        },
        {
         "name": "City_Shimla",
         "rawType": "object",
         "type": "unknown"
        },
        {
         "name": "City_Shirdi",
         "rawType": "object",
         "type": "unknown"
        },
        {
         "name": "City_Shivamogga",
         "rawType": "object",
         "type": "unknown"
        },
        {
         "name": "City_Shoja",
         "rawType": "object",
         "type": "unknown"
        },
        {
         "name": "City_Siliguri",
         "rawType": "object",
         "type": "unknown"
        },
        {
         "name": "City_Sivasagar",
         "rawType": "object",
         "type": "unknown"
        },
        {
         "name": "City_Somnath",
         "rawType": "object",
         "type": "unknown"
        },
        {
         "name": "City_Spiti Valley",
         "rawType": "object",
         "type": "unknown"
        },
        {
         "name": "City_Srinagar",
         "rawType": "object",
         "type": "unknown"
        },
        {
         "name": "City_Srisailam",
         "rawType": "object",
         "type": "unknown"
        },
        {
         "name": "City_Sundarbans",
         "rawType": "object",
         "type": "unknown"
        },
        {
         "name": "City_Tarkarli",
         "rawType": "object",
         "type": "unknown"
        },
        {
         "name": "City_Tawang",
         "rawType": "object",
         "type": "unknown"
        },
        {
         "name": "City_Thanjavur",
         "rawType": "object",
         "type": "unknown"
        },
        {
         "name": "City_Thekkady",
         "rawType": "object",
         "type": "unknown"
        },
        {
         "name": "City_Thiruvananthapuram",
         "rawType": "object",
         "type": "unknown"
        },
        {
         "name": "City_Tirunelveli",
         "rawType": "object",
         "type": "unknown"
        },
        {
         "name": "City_Udaipur",
         "rawType": "object",
         "type": "unknown"
        },
        {
         "name": "City_Udhampur",
         "rawType": "object",
         "type": "unknown"
        },
        {
         "name": "City_Ujjain",
         "rawType": "object",
         "type": "unknown"
        },
        {
         "name": "City_Unakoti",
         "rawType": "object",
         "type": "unknown"
        },
        {
         "name": "City_Uttarkashi",
         "rawType": "object",
         "type": "unknown"
        },
        {
         "name": "City_Vadodara",
         "rawType": "object",
         "type": "unknown"
        },
        {
         "name": "City_Varanasi",
         "rawType": "object",
         "type": "unknown"
        },
        {
         "name": "City_Varkala",
         "rawType": "object",
         "type": "unknown"
        },
        {
         "name": "City_Vijayawada",
         "rawType": "object",
         "type": "unknown"
        },
        {
         "name": "City_Visakhapatnam",
         "rawType": "object",
         "type": "unknown"
        },
        {
         "name": "City_Vizianagaram",
         "rawType": "object",
         "type": "unknown"
        },
        {
         "name": "City_Vrindavan",
         "rawType": "object",
         "type": "unknown"
        },
        {
         "name": "City_Wayanad",
         "rawType": "object",
         "type": "unknown"
        },
        {
         "name": "City_Yercaud",
         "rawType": "object",
         "type": "unknown"
        },
        {
         "name": "City_dalhousie",
         "rawType": "object",
         "type": "unknown"
        },
        {
         "name": "Type_Adventure Sport",
         "rawType": "object",
         "type": "unknown"
        },
        {
         "name": "Type_Amusement Park",
         "rawType": "object",
         "type": "unknown"
        },
        {
         "name": "Type_Beach",
         "rawType": "object",
         "type": "unknown"
        },
        {
         "name": "Type_Bird Sanctuary",
         "rawType": "object",
         "type": "unknown"
        },
        {
         "name": "Type_Border Crossing",
         "rawType": "object",
         "type": "unknown"
        },
        {
         "name": "Type_Botanical Garden",
         "rawType": "object",
         "type": "unknown"
        },
        {
         "name": "Type_Bridge",
         "rawType": "object",
         "type": "unknown"
        },
        {
         "name": "Type_Cave",
         "rawType": "object",
         "type": "unknown"
        },
        {
         "name": "Type_Church",
         "rawType": "object",
         "type": "unknown"
        },
        {
         "name": "Type_Commercial Complex",
         "rawType": "object",
         "type": "unknown"
        },
        {
         "name": "Type_Confluence",
         "rawType": "object",
         "type": "unknown"
        },
        {
         "name": "Type_Cricket Ground",
         "rawType": "object",
         "type": "unknown"
        },
        {
         "name": "Type_Cultural",
         "rawType": "object",
         "type": "unknown"
        },
        {
         "name": "Type_Dam",
         "rawType": "object",
         "type": "unknown"
        },
        {
         "name": "Type_Entertainment",
         "rawType": "object",
         "type": "unknown"
        },
        {
         "name": "Type_Film Studio",
         "rawType": "object",
         "type": "unknown"
        },
        {
         "name": "Type_Fort",
         "rawType": "object",
         "type": "unknown"
        },
        {
         "name": "Type_Ghat",
         "rawType": "object",
         "type": "unknown"
        },
        {
         "name": "Type_Government Building",
         "rawType": "object",
         "type": "unknown"
        },
        {
         "name": "Type_Gravity Hill",
         "rawType": "object",
         "type": "unknown"
        },
        {
         "name": "Type_Gurudwara",
         "rawType": "object",
         "type": "unknown"
        },
        {
         "name": "Type_Hill",
         "rawType": "object",
         "type": "unknown"
        },
        {
         "name": "Type_Historical",
         "rawType": "object",
         "type": "unknown"
        },
        {
         "name": "Type_Island",
         "rawType": "object",
         "type": "unknown"
        },
        {
         "name": "Type_Lake",
         "rawType": "object",
         "type": "unknown"
        },
        {
         "name": "Type_Landmark",
         "rawType": "object",
         "type": "unknown"
        },
        {
         "name": "Type_Mall",
         "rawType": "object",
         "type": "unknown"
        },
        {
         "name": "Type_Market",
         "rawType": "object",
         "type": "unknown"
        },
        {
         "name": "Type_Mausoleum",
         "rawType": "object",
         "type": "unknown"
        },
        {
         "name": "Type_Memorial",
         "rawType": "object",
         "type": "unknown"
        },
        {
         "name": "Type_Monastery",
         "rawType": "object",
         "type": "unknown"
        },
        {
         "name": "Type_Monument",
         "rawType": "object",
         "type": "unknown"
        },
        {
         "name": "Type_Mountain Peak",
         "rawType": "object",
         "type": "unknown"
        },
        {
         "name": "Type_Museum",
         "rawType": "object",
         "type": "unknown"
        },
        {
         "name": "Type_National Park",
         "rawType": "object",
         "type": "unknown"
        },
        {
         "name": "Type_Natural Feature",
         "rawType": "object",
         "type": "unknown"
        },
        {
         "name": "Type_Observatory",
         "rawType": "object",
         "type": "unknown"
        },
        {
         "name": "Type_Orchard",
         "rawType": "object",
         "type": "unknown"
        },
        {
         "name": "Type_Palace",
         "rawType": "object",
         "type": "unknown"
        },
        {
         "name": "Type_Park",
         "rawType": "object",
         "type": "unknown"
        },
        {
         "name": "Type_Prehistoric Site",
         "rawType": "object",
         "type": "unknown"
        },
        {
         "name": "Type_Promenade",
         "rawType": "object",
         "type": "unknown"
        },
        {
         "name": "Type_Religious Complex",
         "rawType": "object",
         "type": "unknown"
        },
        {
         "name": "Type_Religious Shrine",
         "rawType": "object",
         "type": "unknown"
        },
        {
         "name": "Type_Religious Site",
         "rawType": "object",
         "type": "unknown"
        },
        {
         "name": "Type_River Island",
         "rawType": "object",
         "type": "unknown"
        },
        {
         "name": "Type_Rock Carvings",
         "rawType": "object",
         "type": "unknown"
        },
        {
         "name": "Type_Scenic Area",
         "rawType": "object",
         "type": "unknown"
        },
        {
         "name": "Type_Scenic Point",
         "rawType": "object",
         "type": "unknown"
        },
        {
         "name": "Type_Science",
         "rawType": "object",
         "type": "unknown"
        },
        {
         "name": "Type_Sculpture Garden",
         "rawType": "object",
         "type": "unknown"
        },
        {
         "name": "Type_Shrine",
         "rawType": "object",
         "type": "unknown"
        },
        {
         "name": "Type_Site",
         "rawType": "object",
         "type": "unknown"
        },
        {
         "name": "Type_Ski Resort",
         "rawType": "object",
         "type": "unknown"
        },
        {
         "name": "Type_Spiritual Center",
         "rawType": "object",
         "type": "unknown"
        },
        {
         "name": "Type_Stepwell",
         "rawType": "object",
         "type": "unknown"
        },
        {
         "name": "Type_Sunrise Point",
         "rawType": "object",
         "type": "unknown"
        },
        {
         "name": "Type_Suspension Bridge",
         "rawType": "object",
         "type": "unknown"
        },
        {
         "name": "Type_Tea Plantation",
         "rawType": "object",
         "type": "unknown"
        },
        {
         "name": "Type_Temple",
         "rawType": "object",
         "type": "unknown"
        },
        {
         "name": "Type_Temples",
         "rawType": "object",
         "type": "unknown"
        },
        {
         "name": "Type_Theme Park",
         "rawType": "object",
         "type": "unknown"
        },
        {
         "name": "Type_Tomb",
         "rawType": "object",
         "type": "unknown"
        },
        {
         "name": "Type_Tombs",
         "rawType": "object",
         "type": "unknown"
        },
        {
         "name": "Type_Township",
         "rawType": "object",
         "type": "unknown"
        },
        {
         "name": "Type_Trekking",
         "rawType": "object",
         "type": "unknown"
        },
        {
         "name": "Type_Urban Development Project",
         "rawType": "object",
         "type": "unknown"
        },
        {
         "name": "Type_Valley",
         "rawType": "object",
         "type": "unknown"
        },
        {
         "name": "Type_Viewpoint",
         "rawType": "object",
         "type": "unknown"
        },
        {
         "name": "Type_Village",
         "rawType": "object",
         "type": "unknown"
        },
        {
         "name": "Type_Vineyard",
         "rawType": "object",
         "type": "unknown"
        },
        {
         "name": "Type_War Memorial",
         "rawType": "object",
         "type": "unknown"
        },
        {
         "name": "Type_Waterfall",
         "rawType": "object",
         "type": "unknown"
        },
        {
         "name": "Type_Wildlife Sanctuary",
         "rawType": "object",
         "type": "unknown"
        },
        {
         "name": "Type_Zoo",
         "rawType": "object",
         "type": "unknown"
        },
        {
         "name": "AirportWith50kmRadius_No",
         "rawType": "object",
         "type": "unknown"
        },
        {
         "name": "AirportWith50kmRadius_Yes",
         "rawType": "object",
         "type": "unknown"
        },
        {
         "name": "Significance_Adventure",
         "rawType": "object",
         "type": "unknown"
        },
        {
         "name": "Significance_Agricultural",
         "rawType": "object",
         "type": "unknown"
        },
        {
         "name": "Significance_Archaeological",
         "rawType": "object",
         "type": "unknown"
        },
        {
         "name": "Significance_Architectural",
         "rawType": "object",
         "type": "unknown"
        },
        {
         "name": "Significance_Artistic",
         "rawType": "object",
         "type": "unknown"
        },
        {
         "name": "Significance_Botanical",
         "rawType": "object",
         "type": "unknown"
        },
        {
         "name": "Significance_Cultural",
         "rawType": "object",
         "type": "unknown"
        },
        {
         "name": "Significance_Educational",
         "rawType": "object",
         "type": "unknown"
        },
        {
         "name": "Significance_Engineering Marvel",
         "rawType": "object",
         "type": "unknown"
        },
        {
         "name": "Significance_Entertainment",
         "rawType": "object",
         "type": "unknown"
        },
        {
         "name": "Significance_Environmental",
         "rawType": "object",
         "type": "unknown"
        },
        {
         "name": "Significance_Food",
         "rawType": "object",
         "type": "unknown"
        },
        {
         "name": "Significance_Historical",
         "rawType": "object",
         "type": "unknown"
        },
        {
         "name": "Significance_Market",
         "rawType": "object",
         "type": "unknown"
        },
        {
         "name": "Significance_Natural Wonder",
         "rawType": "object",
         "type": "unknown"
        },
        {
         "name": "Significance_Nature",
         "rawType": "object",
         "type": "unknown"
        },
        {
         "name": "Significance_Recreational",
         "rawType": "object",
         "type": "unknown"
        },
        {
         "name": "Significance_Religious",
         "rawType": "object",
         "type": "unknown"
        },
        {
         "name": "Significance_Scenic",
         "rawType": "object",
         "type": "unknown"
        },
        {
         "name": "Significance_Scientific",
         "rawType": "object",
         "type": "unknown"
        },
        {
         "name": "Significance_Shopping",
         "rawType": "object",
         "type": "unknown"
        },
        {
         "name": "Significance_Spiritual",
         "rawType": "object",
         "type": "unknown"
        },
        {
         "name": "Significance_Sports",
         "rawType": "object",
         "type": "unknown"
        },
        {
         "name": "Significance_Wildlife",
         "rawType": "object",
         "type": "unknown"
        },
        {
         "name": "DSLRAllowed",
         "rawType": "object",
         "type": "string"
        }
       ],
       "conversionMethod": "pd.DataFrame",
       "ref": "ef8205c4-432d-4902-9079-b05df1f6e45a",
       "rows": [
        [
         "3",
         "2.0",
         "4.8",
         "0.0",
         "1.05",
         "False",
         "False",
         "False",
         "False",
         "False",
         "True",
         "False",
         "False",
         "False",
         "False",
         "False",
         "False",
         "False",
         "False",
         "False",
         "False",
         "False",
         "False",
         "False",
         "False",
         "False",
         "False",
         "False",
         "False",
         "False",
         "True",
         "False",
         "False",
         "False",
         "False",
         "False",
         "False",
         "False",
         "False",
         "False",
         "False",
         "False",
         "False",
         "False",
         "False",
         "False",
         "False",
         "False",
         "False",
         "False",
         "False",
         "False",
         "False",
         "False",
         "False",
         "False",
         "False",
         "False",
         "False",
         "False",
         "False",
         "False",
         "False",
         "False",
         "False",
         "False",
         "False",
         "False",
         "False",
         "False",
         "False",
         "False",
         "False",
         "False",
         "False",
         "False",
         "False",
         "False",
         "False",
         "False",
         "False",
         "False",
         "False",
         "False",
         "False",
         "False",
         "False",
         "False",
         "False",
         "False",
         "False",
         "False",
         "False",
         "False",
         "False",
         "False",
         "False",
         "False",
         "False",
         "False",
         "False",
         "False",
         "False",
         "False",
         "False",
         "False",
         "False",
         "False",
         "False",
         "False",
         "False",
         "False",
         "False",
         "False",
         "False",
         "False",
         "False",
         "False",
         "False",
         "False",
         "False",
         "False",
         "False",
         "False",
         "False",
         "False",
         "False",
         "False",
         "False",
         "False",
         "False",
         "False",
         "False",
         "False",
         "False",
         "False",
         "False",
         "False",
         "False",
         "False",
         "False",
         "False",
         "False",
         "False",
         "False",
         "False",
         "False",
         "False",
         "False",
         "False",
         "False",
         "False",
         "False",
         "False",
         "False",
         "False",
         "False",
         "False",
         "False",
         "False",
         "False",
         "False",
         "False",
         "False",
         "False",
         "False",
         "False",
         "False",
         "False",
         "False",
         "False",
         "False",
         "False",
         "False",
         "False",
         "False",
         "False",
         "True",
         "False",
         "False",
         "False",
         "False",
         "False",
         "False",
         "False",
         "False",
         "False",
         "False",
         "False",
         "False",
         "False",
         "False",
         "False",
         "False",
         "False",
         "False",
         "False",
         "False",
         "False",
         "False",
         "False",
         "False",
         "False",
         "False",
         "False",
         "False",
         "False",
         "False",
         "False",
         "False",
         "False",
         "False",
         "False",
         "False",
         "False",
         "False",
         "False",
         "False",
         "False",
         "False",
         "False",
         "False",
         "False",
         "False",
         "False",
         "False",
         "False",
         "False",
         "False",
         "False",
         "False",
         "False",
         "False",
         "False",
         "False",
         "False",
         "False",
         "False",
         "False",
         "False",
         "False",
         "False",
         "False",
         "False",
         "False",
         "False",
         "False",
         "False",
         "False",
         "False",
         "False",
         "False",
         "False",
         "False",
         "False",
         "False",
         "False",
         "False",
         "False",
         "False",
         "False",
         "False",
         "False",
         "False",
         "False",
         "False",
         "False",
         "False",
         "False",
         "False",
         "False",
         "False",
         "False",
         "False",
         "False",
         "False",
         "False",
         "False",
         "False",
         "False",
         "False",
         "False",
         "False",
         "False",
         "False",
         "False",
         "False",
         "False",
         "False",
         "False",
         "False",
         "False",
         "False",
         "False",
         "False",
         "False",
         "False",
         "False",
         "False",
         "False",
         "False",
         "False",
         "False",
         "False",
         "False",
         "False",
         "False",
         "False",
         "False",
         "False",
         "False",
         "False",
         "True",
         "False",
         "False",
         "False",
         "False",
         "False",
         "False",
         "False",
         "False",
         "False",
         "False",
         "False",
         "False",
         "False",
         "False",
         "False",
         "False",
         "True",
         "False",
         "False",
         "False",
         "False",
         "False",
         "False",
         "False",
         "False",
         "False",
         "False",
         "False",
         "False",
         "False",
         "False",
         "False",
         "False",
         "False",
         "True",
         "False",
         "False",
         "False",
         "False",
         "False",
         "False",
         "No"
        ],
        [
         "4",
         "2.0",
         "4.8",
         "0.0",
         "0.39",
         "False",
         "False",
         "False",
         "False",
         "False",
         "True",
         "False",
         "False",
         "False",
         "False",
         "False",
         "False",
         "False",
         "False",
         "False",
         "True",
         "False",
         "False",
         "False",
         "False",
         "False",
         "False",
         "False",
         "False",
         "False",
         "False",
         "False",
         "False",
         "False",
         "False",
         "False",
         "False",
         "False",
         "False",
         "False",
         "False",
         "False",
         "False",
         "False",
         "False",
         "False",
         "False",
         "False",
         "False",
         "False",
         "False",
         "False",
         "False",
         "False",
         "False",
         "False",
         "False",
         "False",
         "False",
         "False",
         "False",
         "False",
         "False",
         "False",
         "False",
         "False",
         "False",
         "False",
         "False",
         "False",
         "False",
         "False",
         "False",
         "False",
         "False",
         "False",
         "False",
         "False",
         "False",
         "False",
         "False",
         "False",
         "False",
         "False",
         "False",
         "False",
         "False",
         "False",
         "False",
         "False",
         "False",
         "False",
         "False",
         "False",
         "False",
         "False",
         "False",
         "False",
         "False",
         "False",
         "False",
         "False",
         "False",
         "False",
         "False",
         "False",
         "False",
         "False",
         "False",
         "False",
         "False",
         "False",
         "False",
         "False",
         "False",
         "False",
         "False",
         "False",
         "False",
         "False",
         "False",
         "False",
         "False",
         "False",
         "False",
         "False",
         "False",
         "False",
         "False",
         "False",
         "False",
         "False",
         "False",
         "False",
         "False",
         "False",
         "False",
         "False",
         "False",
         "False",
         "False",
         "False",
         "False",
         "False",
         "False",
         "False",
         "False",
         "False",
         "False",
         "False",
         "False",
         "False",
         "False",
         "False",
         "False",
         "False",
         "False",
         "False",
         "False",
         "False",
         "False",
         "False",
         "False",
         "False",
         "False",
         "False",
         "False",
         "False",
         "False",
         "False",
         "False",
         "False",
         "False",
         "False",
         "False",
         "False",
         "False",
         "False",
         "False",
         "False",
         "False",
         "False",
         "False",
         "False",
         "False",
         "False",
         "False",
         "False",
         "False",
         "False",
         "False",
         "False",
         "False",
         "False",
         "False",
         "False",
         "False",
         "False",
         "False",
         "False",
         "False",
         "False",
         "False",
         "False",
         "False",
         "False",
         "False",
         "False",
         "False",
         "False",
         "False",
         "False",
         "False",
         "False",
         "False",
         "False",
         "False",
         "False",
         "False",
         "False",
         "False",
         "False",
         "False",
         "False",
         "False",
         "False",
         "False",
         "True",
         "False",
         "False",
         "False",
         "False",
         "False",
         "False",
         "False",
         "False",
         "False",
         "False",
         "False",
         "False",
         "False",
         "False",
         "False",
         "False",
         "False",
         "False",
         "False",
         "False",
         "False",
         "False",
         "False",
         "False",
         "False",
         "False",
         "False",
         "False",
         "False",
         "False",
         "False",
         "False",
         "False",
         "False",
         "False",
         "False",
         "False",
         "False",
         "False",
         "False",
         "False",
         "False",
         "False",
         "False",
         "False",
         "False",
         "False",
         "False",
         "False",
         "False",
         "False",
         "False",
         "False",
         "False",
         "False",
         "False",
         "False",
         "False",
         "False",
         "False",
         "False",
         "False",
         "False",
         "False",
         "False",
         "False",
         "False",
         "False",
         "False",
         "False",
         "False",
         "False",
         "False",
         "False",
         "False",
         "False",
         "False",
         "False",
         "False",
         "False",
         "False",
         "False",
         "False",
         "False",
         "True",
         "False",
         "False",
         "False",
         "False",
         "False",
         "False",
         "False",
         "False",
         "False",
         "False",
         "False",
         "False",
         "False",
         "False",
         "False",
         "True",
         "False",
         "False",
         "False",
         "False",
         "False",
         "False",
         "False",
         "False",
         "False",
         "False",
         "False",
         "False",
         "False",
         "False",
         "False",
         "False",
         "False",
         "False",
         "True",
         "False",
         "False",
         "False",
         "False",
         "False",
         "False",
         "No"
        ],
        [
         "7",
         "1.0",
         "4.8",
         "0.0",
         "0.9",
         "False",
         "False",
         "False",
         "False",
         "False",
         "True",
         "False",
         "False",
         "False",
         "False",
         "False",
         "False",
         "False",
         "False",
         "False",
         "False",
         "False",
         "False",
         "False",
         "False",
         "False",
         "False",
         "False",
         "False",
         "False",
         "True",
         "False",
         "False",
         "False",
         "False",
         "False",
         "False",
         "False",
         "False",
         "False",
         "False",
         "False",
         "False",
         "False",
         "False",
         "False",
         "False",
         "False",
         "False",
         "False",
         "False",
         "False",
         "False",
         "False",
         "False",
         "False",
         "False",
         "False",
         "False",
         "False",
         "False",
         "False",
         "False",
         "False",
         "False",
         "False",
         "False",
         "False",
         "False",
         "False",
         "False",
         "False",
         "False",
         "False",
         "False",
         "False",
         "False",
         "False",
         "False",
         "False",
         "False",
         "False",
         "False",
         "False",
         "False",
         "False",
         "False",
         "False",
         "False",
         "False",
         "False",
         "False",
         "False",
         "False",
         "False",
         "False",
         "False",
         "False",
         "False",
         "False",
         "False",
         "False",
         "False",
         "False",
         "False",
         "False",
         "False",
         "False",
         "False",
         "False",
         "False",
         "False",
         "False",
         "False",
         "False",
         "False",
         "False",
         "False",
         "False",
         "False",
         "False",
         "False",
         "False",
         "False",
         "False",
         "False",
         "False",
         "False",
         "False",
         "False",
         "False",
         "False",
         "False",
         "False",
         "False",
         "False",
         "False",
         "False",
         "False",
         "False",
         "False",
         "False",
         "False",
         "False",
         "False",
         "False",
         "False",
         "False",
         "False",
         "False",
         "False",
         "True",
         "False",
         "False",
         "False",
         "False",
         "False",
         "False",
         "False",
         "False",
         "False",
         "False",
         "False",
         "False",
         "False",
         "False",
         "False",
         "False",
         "False",
         "False",
         "False",
         "False",
         "False",
         "False",
         "False",
         "False",
         "False",
         "False",
         "False",
         "False",
         "False",
         "False",
         "False",
         "False",
         "False",
         "False",
         "False",
         "False",
         "False",
         "False",
         "False",
         "False",
         "False",
         "False",
         "False",
         "False",
         "False",
         "False",
         "False",
         "False",
         "False",
         "False",
         "False",
         "False",
         "False",
         "False",
         "False",
         "False",
         "False",
         "False",
         "False",
         "False",
         "False",
         "False",
         "False",
         "False",
         "False",
         "False",
         "False",
         "False",
         "False",
         "False",
         "False",
         "False",
         "False",
         "False",
         "False",
         "False",
         "False",
         "False",
         "False",
         "False",
         "False",
         "False",
         "False",
         "False",
         "False",
         "False",
         "False",
         "False",
         "False",
         "False",
         "False",
         "False",
         "False",
         "False",
         "False",
         "False",
         "False",
         "False",
         "False",
         "False",
         "False",
         "False",
         "False",
         "False",
         "False",
         "False",
         "False",
         "False",
         "False",
         "False",
         "False",
         "False",
         "False",
         "False",
         "False",
         "False",
         "False",
         "False",
         "False",
         "False",
         "False",
         "False",
         "False",
         "False",
         "False",
         "False",
         "False",
         "False",
         "False",
         "False",
         "False",
         "False",
         "False",
         "False",
         "False",
         "False",
         "False",
         "False",
         "False",
         "False",
         "False",
         "False",
         "False",
         "False",
         "False",
         "False",
         "False",
         "False",
         "False",
         "False",
         "False",
         "False",
         "False",
         "False",
         "False",
         "False",
         "False",
         "False",
         "False",
         "False",
         "True",
         "False",
         "False",
         "False",
         "False",
         "False",
         "False",
         "False",
         "False",
         "False",
         "False",
         "False",
         "False",
         "False",
         "False",
         "False",
         "False",
         "True",
         "False",
         "False",
         "False",
         "False",
         "False",
         "False",
         "False",
         "False",
         "False",
         "False",
         "False",
         "False",
         "False",
         "False",
         "False",
         "False",
         "False",
         "True",
         "False",
         "False",
         "False",
         "False",
         "False",
         "False",
         "No"
        ],
        [
         "8",
         "1.5",
         "4.8",
         "0.0",
         "1.2",
         "True",
         "False",
         "False",
         "False",
         "False",
         "False",
         "False",
         "False",
         "False",
         "False",
         "False",
         "False",
         "False",
         "False",
         "False",
         "False",
         "False",
         "False",
         "False",
         "False",
         "False",
         "False",
         "False",
         "True",
         "False",
         "False",
         "False",
         "False",
         "False",
         "False",
         "False",
         "False",
         "False",
         "False",
         "False",
         "False",
         "False",
         "False",
         "False",
         "False",
         "False",
         "False",
         "False",
         "False",
         "False",
         "False",
         "False",
         "False",
         "False",
         "False",
         "False",
         "False",
         "False",
         "False",
         "False",
         "False",
         "False",
         "False",
         "False",
         "False",
         "False",
         "False",
         "False",
         "False",
         "False",
         "False",
         "False",
         "False",
         "False",
         "False",
         "False",
         "False",
         "False",
         "False",
         "False",
         "False",
         "False",
         "False",
         "False",
         "False",
         "False",
         "False",
         "False",
         "False",
         "False",
         "False",
         "False",
         "False",
         "False",
         "False",
         "False",
         "False",
         "False",
         "False",
         "False",
         "False",
         "False",
         "False",
         "False",
         "False",
         "False",
         "False",
         "False",
         "False",
         "False",
         "False",
         "False",
         "False",
         "False",
         "False",
         "False",
         "False",
         "False",
         "False",
         "False",
         "False",
         "False",
         "False",
         "False",
         "False",
         "False",
         "False",
         "False",
         "False",
         "False",
         "False",
         "False",
         "False",
         "False",
         "False",
         "False",
         "False",
         "False",
         "False",
         "False",
         "False",
         "False",
         "False",
         "False",
         "False",
         "False",
         "False",
         "False",
         "False",
         "False",
         "False",
         "False",
         "False",
         "False",
         "False",
         "False",
         "False",
         "False",
         "False",
         "False",
         "False",
         "False",
         "False",
         "False",
         "False",
         "False",
         "False",
         "False",
         "False",
         "False",
         "False",
         "False",
         "False",
         "False",
         "False",
         "False",
         "False",
         "False",
         "False",
         "False",
         "False",
         "False",
         "False",
         "False",
         "False",
         "False",
         "False",
         "False",
         "False",
         "False",
         "False",
         "False",
         "False",
         "False",
         "False",
         "False",
         "False",
         "False",
         "False",
         "False",
         "False",
         "False",
         "False",
         "False",
         "False",
         "False",
         "False",
         "False",
         "False",
         "False",
         "False",
         "False",
         "False",
         "False",
         "False",
         "False",
         "False",
         "False",
         "False",
         "False",
         "False",
         "False",
         "False",
         "False",
         "False",
         "False",
         "False",
         "False",
         "False",
         "False",
         "False",
         "False",
         "False",
         "False",
         "False",
         "False",
         "False",
         "False",
         "False",
         "False",
         "True",
         "False",
         "False",
         "False",
         "False",
         "False",
         "False",
         "False",
         "False",
         "False",
         "False",
         "False",
         "False",
         "False",
         "False",
         "False",
         "False",
         "False",
         "False",
         "False",
         "False",
         "False",
         "False",
         "False",
         "False",
         "False",
         "False",
         "False",
         "False",
         "False",
         "False",
         "False",
         "False",
         "False",
         "False",
         "False",
         "False",
         "False",
         "False",
         "False",
         "False",
         "False",
         "False",
         "False",
         "False",
         "False",
         "False",
         "False",
         "False",
         "False",
         "False",
         "False",
         "False",
         "False",
         "False",
         "False",
         "False",
         "False",
         "False",
         "False",
         "False",
         "False",
         "False",
         "False",
         "False",
         "False",
         "False",
         "False",
         "False",
         "False",
         "False",
         "False",
         "True",
         "False",
         "False",
         "False",
         "False",
         "False",
         "False",
         "False",
         "False",
         "False",
         "False",
         "False",
         "False",
         "False",
         "False",
         "False",
         "False",
         "True",
         "False",
         "False",
         "False",
         "False",
         "False",
         "False",
         "False",
         "False",
         "False",
         "False",
         "False",
         "False",
         "False",
         "False",
         "False",
         "False",
         "False",
         "True",
         "False",
         "False",
         "False",
         "False",
         "False",
         "False",
         "No"
        ],
        [
         "13",
         "1.0",
         "4.8",
         "0.0",
         "0.29",
         "False",
         "False",
         "False",
         "True",
         "False",
         "False",
         "False",
         "False",
         "False",
         "False",
         "False",
         "False",
         "False",
         "False",
         "False",
         "False",
         "False",
         "False",
         "False",
         "False",
         "False",
         "False",
         "False",
         "False",
         "False",
         "False",
         "False",
         "False",
         "False",
         "False",
         "False",
         "False",
         "False",
         "False",
         "False",
         "True",
         "False",
         "False",
         "False",
         "False",
         "False",
         "False",
         "False",
         "False",
         "False",
         "False",
         "False",
         "False",
         "False",
         "False",
         "False",
         "False",
         "False",
         "False",
         "False",
         "False",
         "False",
         "True",
         "False",
         "False",
         "False",
         "False",
         "False",
         "False",
         "False",
         "False",
         "False",
         "False",
         "False",
         "False",
         "False",
         "False",
         "False",
         "False",
         "False",
         "False",
         "False",
         "False",
         "False",
         "False",
         "False",
         "False",
         "False",
         "False",
         "False",
         "False",
         "False",
         "False",
         "False",
         "False",
         "False",
         "False",
         "False",
         "False",
         "False",
         "False",
         "False",
         "False",
         "False",
         "False",
         "False",
         "False",
         "False",
         "False",
         "False",
         "False",
         "False",
         "False",
         "False",
         "False",
         "False",
         "False",
         "False",
         "False",
         "False",
         "False",
         "False",
         "False",
         "False",
         "False",
         "False",
         "False",
         "False",
         "False",
         "False",
         "False",
         "False",
         "False",
         "False",
         "False",
         "False",
         "False",
         "False",
         "False",
         "False",
         "False",
         "False",
         "False",
         "False",
         "False",
         "False",
         "False",
         "False",
         "False",
         "False",
         "False",
         "False",
         "False",
         "False",
         "False",
         "False",
         "False",
         "False",
         "False",
         "False",
         "False",
         "False",
         "False",
         "False",
         "False",
         "False",
         "False",
         "False",
         "False",
         "False",
         "False",
         "False",
         "False",
         "False",
         "False",
         "False",
         "False",
         "False",
         "False",
         "False",
         "False",
         "False",
         "False",
         "False",
         "False",
         "False",
         "False",
         "False",
         "False",
         "False",
         "False",
         "False",
         "False",
         "False",
         "False",
         "False",
         "False",
         "False",
         "False",
         "False",
         "False",
         "False",
         "False",
         "False",
         "False",
         "False",
         "False",
         "False",
         "False",
         "False",
         "False",
         "False",
         "False",
         "False",
         "False",
         "False",
         "False",
         "False",
         "False",
         "False",
         "False",
         "False",
         "False",
         "False",
         "False",
         "False",
         "False",
         "False",
         "False",
         "False",
         "False",
         "False",
         "False",
         "False",
         "False",
         "False",
         "False",
         "False",
         "False",
         "False",
         "False",
         "False",
         "False",
         "False",
         "False",
         "False",
         "False",
         "False",
         "False",
         "False",
         "False",
         "False",
         "False",
         "False",
         "False",
         "False",
         "False",
         "False",
         "False",
         "False",
         "False",
         "False",
         "False",
         "False",
         "False",
         "False",
         "False",
         "False",
         "False",
         "False",
         "False",
         "False",
         "False",
         "False",
         "False",
         "False",
         "False",
         "False",
         "False",
         "False",
         "False",
         "False",
         "False",
         "False",
         "False",
         "False",
         "False",
         "False",
         "False",
         "False",
         "False",
         "False",
         "False",
         "False",
         "False",
         "False",
         "False",
         "False",
         "False",
         "False",
         "False",
         "False",
         "False",
         "False",
         "False",
         "False",
         "False",
         "False",
         "False",
         "False",
         "False",
         "False",
         "True",
         "False",
         "False",
         "False",
         "False",
         "False",
         "False",
         "False",
         "False",
         "False",
         "False",
         "False",
         "False",
         "False",
         "False",
         "False",
         "True",
         "False",
         "False",
         "False",
         "False",
         "False",
         "False",
         "False",
         "False",
         "False",
         "False",
         "False",
         "False",
         "False",
         "False",
         "False",
         "False",
         "False",
         "False",
         "True",
         "False",
         "False",
         "False",
         "False",
         "False",
         "False",
         "No"
        ]
       ],
       "shape": {
        "columns": 354,
        "rows": 5
       }
      },
      "text/html": [
       "<div>\n",
       "<style scoped>\n",
       "    .dataframe tbody tr th:only-of-type {\n",
       "        vertical-align: middle;\n",
       "    }\n",
       "\n",
       "    .dataframe tbody tr th {\n",
       "        vertical-align: top;\n",
       "    }\n",
       "\n",
       "    .dataframe thead th {\n",
       "        text-align: right;\n",
       "    }\n",
       "</style>\n",
       "<table border=\"1\" class=\"dataframe\">\n",
       "  <thead>\n",
       "    <tr style=\"text-align: right;\">\n",
       "      <th></th>\n",
       "      <th>TimeNeededToVisitInHrs</th>\n",
       "      <th>GoogleReviewRating</th>\n",
       "      <th>EntranceFeeInINR</th>\n",
       "      <th>NumberOfGoogleReviewInLakhs</th>\n",
       "      <th>Zone_Central</th>\n",
       "      <th>Zone_Eastern</th>\n",
       "      <th>Zone_North Eastern</th>\n",
       "      <th>Zone_Northern</th>\n",
       "      <th>Zone_Southern</th>\n",
       "      <th>Zone_Western</th>\n",
       "      <th>...</th>\n",
       "      <th>Significance_Nature</th>\n",
       "      <th>Significance_Recreational</th>\n",
       "      <th>Significance_Religious</th>\n",
       "      <th>Significance_Scenic</th>\n",
       "      <th>Significance_Scientific</th>\n",
       "      <th>Significance_Shopping</th>\n",
       "      <th>Significance_Spiritual</th>\n",
       "      <th>Significance_Sports</th>\n",
       "      <th>Significance_Wildlife</th>\n",
       "      <th>DSLRAllowed</th>\n",
       "    </tr>\n",
       "  </thead>\n",
       "  <tbody>\n",
       "    <tr>\n",
       "      <th>3</th>\n",
       "      <td>2.0</td>\n",
       "      <td>4.8</td>\n",
       "      <td>0.0</td>\n",
       "      <td>1.05</td>\n",
       "      <td>False</td>\n",
       "      <td>False</td>\n",
       "      <td>False</td>\n",
       "      <td>False</td>\n",
       "      <td>False</td>\n",
       "      <td>True</td>\n",
       "      <td>...</td>\n",
       "      <td>False</td>\n",
       "      <td>False</td>\n",
       "      <td>True</td>\n",
       "      <td>False</td>\n",
       "      <td>False</td>\n",
       "      <td>False</td>\n",
       "      <td>False</td>\n",
       "      <td>False</td>\n",
       "      <td>False</td>\n",
       "      <td>No</td>\n",
       "    </tr>\n",
       "    <tr>\n",
       "      <th>4</th>\n",
       "      <td>2.0</td>\n",
       "      <td>4.8</td>\n",
       "      <td>0.0</td>\n",
       "      <td>0.39</td>\n",
       "      <td>False</td>\n",
       "      <td>False</td>\n",
       "      <td>False</td>\n",
       "      <td>False</td>\n",
       "      <td>False</td>\n",
       "      <td>True</td>\n",
       "      <td>...</td>\n",
       "      <td>False</td>\n",
       "      <td>False</td>\n",
       "      <td>True</td>\n",
       "      <td>False</td>\n",
       "      <td>False</td>\n",
       "      <td>False</td>\n",
       "      <td>False</td>\n",
       "      <td>False</td>\n",
       "      <td>False</td>\n",
       "      <td>No</td>\n",
       "    </tr>\n",
       "    <tr>\n",
       "      <th>7</th>\n",
       "      <td>1.0</td>\n",
       "      <td>4.8</td>\n",
       "      <td>0.0</td>\n",
       "      <td>0.90</td>\n",
       "      <td>False</td>\n",
       "      <td>False</td>\n",
       "      <td>False</td>\n",
       "      <td>False</td>\n",
       "      <td>False</td>\n",
       "      <td>True</td>\n",
       "      <td>...</td>\n",
       "      <td>False</td>\n",
       "      <td>False</td>\n",
       "      <td>True</td>\n",
       "      <td>False</td>\n",
       "      <td>False</td>\n",
       "      <td>False</td>\n",
       "      <td>False</td>\n",
       "      <td>False</td>\n",
       "      <td>False</td>\n",
       "      <td>No</td>\n",
       "    </tr>\n",
       "    <tr>\n",
       "      <th>8</th>\n",
       "      <td>1.5</td>\n",
       "      <td>4.8</td>\n",
       "      <td>0.0</td>\n",
       "      <td>1.20</td>\n",
       "      <td>True</td>\n",
       "      <td>False</td>\n",
       "      <td>False</td>\n",
       "      <td>False</td>\n",
       "      <td>False</td>\n",
       "      <td>False</td>\n",
       "      <td>...</td>\n",
       "      <td>False</td>\n",
       "      <td>False</td>\n",
       "      <td>True</td>\n",
       "      <td>False</td>\n",
       "      <td>False</td>\n",
       "      <td>False</td>\n",
       "      <td>False</td>\n",
       "      <td>False</td>\n",
       "      <td>False</td>\n",
       "      <td>No</td>\n",
       "    </tr>\n",
       "    <tr>\n",
       "      <th>13</th>\n",
       "      <td>1.0</td>\n",
       "      <td>4.8</td>\n",
       "      <td>0.0</td>\n",
       "      <td>0.29</td>\n",
       "      <td>False</td>\n",
       "      <td>False</td>\n",
       "      <td>False</td>\n",
       "      <td>True</td>\n",
       "      <td>False</td>\n",
       "      <td>False</td>\n",
       "      <td>...</td>\n",
       "      <td>False</td>\n",
       "      <td>False</td>\n",
       "      <td>True</td>\n",
       "      <td>False</td>\n",
       "      <td>False</td>\n",
       "      <td>False</td>\n",
       "      <td>False</td>\n",
       "      <td>False</td>\n",
       "      <td>False</td>\n",
       "      <td>No</td>\n",
       "    </tr>\n",
       "  </tbody>\n",
       "</table>\n",
       "<p>5 rows × 354 columns</p>\n",
       "</div>"
      ],
      "text/plain": [
       "    TimeNeededToVisitInHrs  GoogleReviewRating  EntranceFeeInINR  \\\n",
       "3                      2.0                 4.8               0.0   \n",
       "4                      2.0                 4.8               0.0   \n",
       "7                      1.0                 4.8               0.0   \n",
       "8                      1.5                 4.8               0.0   \n",
       "13                     1.0                 4.8               0.0   \n",
       "\n",
       "    NumberOfGoogleReviewInLakhs Zone_Central Zone_Eastern Zone_North Eastern  \\\n",
       "3                          1.05        False        False              False   \n",
       "4                          0.39        False        False              False   \n",
       "7                          0.90        False        False              False   \n",
       "8                          1.20         True        False              False   \n",
       "13                         0.29        False        False              False   \n",
       "\n",
       "   Zone_Northern Zone_Southern Zone_Western  ... Significance_Nature  \\\n",
       "3          False         False         True  ...               False   \n",
       "4          False         False         True  ...               False   \n",
       "7          False         False         True  ...               False   \n",
       "8          False         False        False  ...               False   \n",
       "13          True         False        False  ...               False   \n",
       "\n",
       "   Significance_Recreational Significance_Religious Significance_Scenic  \\\n",
       "3                      False                   True               False   \n",
       "4                      False                   True               False   \n",
       "7                      False                   True               False   \n",
       "8                      False                   True               False   \n",
       "13                     False                   True               False   \n",
       "\n",
       "   Significance_Scientific Significance_Shopping Significance_Spiritual  \\\n",
       "3                    False                 False                  False   \n",
       "4                    False                 False                  False   \n",
       "7                    False                 False                  False   \n",
       "8                    False                 False                  False   \n",
       "13                   False                 False                  False   \n",
       "\n",
       "   Significance_Sports Significance_Wildlife DSLRAllowed  \n",
       "3                False                 False          No  \n",
       "4                False                 False          No  \n",
       "7                False                 False          No  \n",
       "8                False                 False          No  \n",
       "13               False                 False          No  \n",
       "\n",
       "[5 rows x 354 columns]"
      ]
     },
     "metadata": {},
     "output_type": "display_data"
    },
    {
     "data": {
      "text/plain": [
       "DSLRAllowed\n",
       "No     58\n",
       "Yes    58\n",
       "Name: count, dtype: int64"
      ]
     },
     "metadata": {},
     "output_type": "display_data"
    }
   ],
   "source": [
    "rus = RandomUnderSampler(random_state=42)\n",
    "X_under, y_under = rus.fit_resample(X_encoded, y_encoded)\n",
    "\n",
    "print(pd.Series(y_under).value_counts())\n",
    "\n",
    "X_under_df = pd.DataFrame(X_under, columns=X_encoded.columns)\n",
    "y_under_series = pd.Series(y_under, name=\"DSLRAllowed\")\n",
    "y_under_labels = le.inverse_transform(y_under_series)\n",
    "\n",
    "df_under = pd.concat([X_under_df, pd.Series(y_under_labels, name='DSLRAllowed')], axis=1)\n",
    "\n",
    "display(df_under.head())\n",
    "display(df_under.DSLRAllowed.value_counts())\n"
   ]
  }
 ],
 "metadata": {
  "kernelspec": {
   "display_name": "Python 3",
   "language": "python",
   "name": "python3"
  },
  "language_info": {
   "codemirror_mode": {
    "name": "ipython",
    "version": 3
   },
   "file_extension": ".py",
   "mimetype": "text/x-python",
   "name": "python",
   "nbconvert_exporter": "python",
   "pygments_lexer": "ipython3",
   "version": "3.13.3"
  }
 },
 "nbformat": 4,
 "nbformat_minor": 5
}
